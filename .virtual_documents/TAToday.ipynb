import seaborn as sns
import altair as alt
import pandas as pd

from sklearn.model_selection import train_test_split as TTS
from sklearn.ensemble import RandomForestClassifier
from imblearn.over_sampling import RandomOverSampler

banco = pd.read_csv('https://raw.githubusercontent.com/byui-cse/cse450-course/master/data/bank.csv')
banco.head()


list1 = [1, 2, 3, 4]



