group1 = [['Riley Dixon', 'Anika Grundvig', 'Jeremy Jones', 'Isaac Malmstrom', 'Josh Peterson', 'Holly VanAuker']]
group3 = [['Reece Brown', 'John Cornelison', 'Kaelan McGurk', 'Stephen Sharp', 'Chris Trivino', 'David Yang']]
group4 = [['Domenick Casper', 'Stephen Harrison', 'Gui Nascimento', 'Leonardo Santos', 'Harrison Thorne']]
group5 = [['Andrew Robert Burns', 'Rachelle Ceron', 'Jae Jung', 'Jonathan Rivera']]
group6 = [['Chris Brookhart', 'Wyatt Ogden', 'Bretton Steiner', 'Jordan Watts']]
group7 = [['Mars Biziyabal', 'Daniel Hernandez Giraldo', 'Jason Kent', 'Chance Lopata', 'Keyanna Oliphant', 'Tanner Layne Troumbley']]
group8 = [['Colin Dye', 'Trevor Neri', 'JP Parraga', 'Ivy Skousen', 'Madeline Woodard']]
group9 = [['Joshua Bee', 'Cameron Lyman', 'Porter McGary', 'Nathan Prestwich', 'Kiersten Schill', 'Aubrey Shuga']]
group10 = [['Jackson Dial', 'Hunter Livesay', 'Danny Moon', 'Conner Pohlsander']]
group11 = [['Ethan Nelson', 'Trey Walker', 'Tim Womble']]
group12 = [['Jordan Carlson', 'Kyle Mueller', 'Cody Overholt']]
group13 = [['Rachel Joan Chang', 'Catie Holloway', 'Ricardo Leon Coronado', 'Josh Nestman']]
group14 = [['James Alves da silva', 'Asher Hanson', 'Ellie Perkins', 'Gabriel Sanahuano Castrillon']]
group15 = [['Trevor Fernstrom', 'Ilya Kovalyov', 'Andrew Lundgren', 'Adam White']]

groups = group1 + group3 + group4 + group5 + group6 + group7 + group8 + group9 + group10 + group11 + group12 + group13 + group14 + group15
print(groups)


import pandas as pd
backup = pd.Series(groups)
backup.to_csv('../data/groups.csv', index=False)


def findRating(stringInput):
    output = ''
    i = 0
    for j in stringInput:
        if (j.isdigit() or j == '.' or j == '/') and i < 50:
            output += str(j)
        i += 1
    while output.find('.') != -1 and output[-1] == '.':
        output = output[:-1]
    while output.find('.') != -1 and output[0] == '.':
        output = output[1:]
    if output == '':
        return '**No Rating Found**'
    return output


def seperateComments(commentList, nameList, commentString):
    startList = []
    for name in nameList:
        tempString = commentString.lower()
        tempName1 = name.lower()
        tempName2 = name.lower().split()[0]
        commentList.append([])
        if tempString.find(tempName1) != -1:
            startList.append(tempString.find(tempName1))
            tempString = tempString[tempString.find(tempName1) + len(tempName1):]
        elif tempString.find(tempName2) != -1:
            startList.append(tempString.find(tempName2))
            tempString = tempString[tempString.find(tempName2) + len(tempName2):]
        else:
            startList.append(-1)

    sortList = startList.copy()
    sortList.sort()
    j = 0
    for i in startList:
        if i == -1:
            commentList[j].append('**No Comment Found.**\n')
        elif i == max(startList):
            commentList[j].append(commentString[sortList[sortList.index(i)]:] + '\n')
            pass
        elif j < len(startList) - 1:
            commentList[j].append(commentString[i:sortList[sortList.index(i)+1]] + '\n')
        elif j == len(startList) - 1:
            commentList[j].append(commentString[i:sortList[sortList.index(i)+1]] + '\n')
        j += 1
    
    return commentList


totalNumList = []
totalSumList = ['']
groupSumList = ['']

for i in range(0, 10):
    tempList = []
    for j in range(i):
        tempList.append(1)
    totalNumList.append(tempList)

for i in range(0, 9):
    tempString = ''
    for j in range(i):
        tempString += '25 + '
    tempString += '25'
    totalSumList.append(tempString)

for i in range(0, 9):
    tempString = ''
    for j in range(i):
        tempString += '75 + '
    tempString += '75'
    groupSumList.append(tempString)


print(totalNumList)
print(totalSumList)
print(groupSumList)


output = ''
# totalNumList created above
# totalSumList created above
# groupSumList created above

for i in range(0, len(groups)):
    if i == 0:
        groupNum = i + 1
    else:
        groupNum = i + 2
    output += '# **Group {}**\n'.format(groupNum)
    for j in groups[i]:
        output += '## {}\n'.format(j)
        for k in groups[i]:
            output += '\t- {0} to {1}: \n'.format(k, j)
        output += '### {0} Total:\n> Score: {1}  \n> Grade: ({2}) / {3} = **25**\n'.format(j, totalNumList[len(groups[i])], totalSumList[len(groups[i])], len(groups[i]))
    output += '## Group {} Score: \n'.format(groupNum)
    for m in groups[i]:
        output += '\t- {0}: \n'.format(m)
    output += '\t- Group {0} Total: \t{1} \t\t({2}) / {3} = **75**\n'.format(groupNum, totalNumList[len(groups[i])], groupSumList[len(groups[i])], len(groups[i]))
    output += '\n* * *\n\n'
print(output)


f = open("module2_grades.md", "w")
f.write(output)
f.close()


import markdown

with open('./module2/module2gradenotes.md', 'r', encoding='utf8') as f:
    text = f.read()
    html = markdown.markdown(text)

with open('./module2/module2gradenotes.html', 'w', encoding='utf8') as f:
    f.write(html)


output = ''
# totalNumList created above
# totalSumList created above
# groupSumList created above

for i in range(0, len(groups)):
    if i == 0:
        groupNum = i + 1
    else:
        groupNum = i + 2
    output += '# **Group {}**\n'.format(groupNum)
    for j in groups[i]:
        output += '## {}\n'.format(j)
        output += '### Candor Comments:\n'
        for k in groups[i]:
            output += '\t-\n'
        output += '### {0} Total:\n> Score: {1}  \n> Grade: ({2}) / {3} = **25**\n'.format(j, totalNumList[len(groups[i])], totalSumList[len(groups[i])], len(groups[i]))
    output += '### Group {} Score: \n'.format(groupNum)
    for m in groups[i]:
        output += '\t- {0}: \n'.format(m)
    output += '\t- Group {0} Total: \t{1} \t\t({2}) / {3} = **75**\n'.format(groupNum, totalNumList[len(groups[i])], groupSumList[len(groups[i])], len(groups[i]))
    output += '\n* * *\n\n'
print(output)


# Copy and paste entire comments from one person into something maybe a text file
i = 0
tempList = []
while i < 5:
    stringInput = input("Enter comments from person {}: ".format(i))
    if stringInput == 'back':
        if i != 0:
            i -= 1
    else:
        tempList = seperateComments(tempList, group8, stringInput)
        i += 1

for j in tempList:
    print(j)


def seperateComments(nameList, commentString, commentList):
    startList = []
    for name in group8[0]:
        tempString = commentString.lower()
        tempName1 = name.lower()
        tempName2 = name.lower().split()[0]
        commentList.append([])
        if tempString.find(tempName1) != -1:
            startList.append(tempString.find(tempName1))
            tempString = tempString[tempString.find(tempName1) + len(tempName1):]
        elif tempString.find(tempName2) != -1:
            startList.append(tempString.find(tempName2))
            tempString = tempString[tempString.find(tempName2) + len(tempName2):]
        else:
            startList.append(-1)

    sortList = startList.copy()
    sortList.sort()
    j = 0
    for i in startList:
        if i == -1:
            commentList[j].append('No Comment Found. \n')
        elif i == max(startList):
            commentList[j].append(commentString[sortList[sortList.index(i)]:] + '\n')
            pass
        elif j < len(startList) - 1:
            commentList[j].append(commentString[i:sortList[sortList.index(i)+1]] + '\n')
        j += 1
    commentList[j - 1].append(commentString[i:sortList[sortList.index(i)+1]] + '\n')
    return commentList

#temp = lambda x: list(map(print, x))
#temp(*group8)
