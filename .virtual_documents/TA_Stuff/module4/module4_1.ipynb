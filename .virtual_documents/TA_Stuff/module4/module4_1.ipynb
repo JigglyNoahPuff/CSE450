import pandas as pd
import altair as alt
import numpy as np


bikes = pd.read_csv('https://raw.githubusercontent.com/byui-cse/cse450-course/master/data/bikes.csv')


bikes.head()
