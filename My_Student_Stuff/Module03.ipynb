{
 "cells": [
  {
   "cell_type": "code",
   "execution_count": 93,
   "metadata": {},
   "outputs": [
    {
     "name": "stdout",
     "output_type": "stream",
     "text": [
      "[[6234 1094]\n",
      " [2752 4576]]\n",
      "              precision    recall  f1-score   support\n",
      "\n",
      "           0       0.69      0.85      0.76      7328\n",
      "           1       0.81      0.62      0.70      7328\n",
      "\n",
      "    accuracy                           0.74     14656\n",
      "   macro avg       0.75      0.74      0.73     14656\n",
      "weighted avg       0.75      0.74      0.73     14656\n",
      "\n",
      "[[1066 1729]\n",
      " [ 494 2301]]\n",
      "              precision    recall  f1-score   support\n",
      "\n",
      "           0       0.68      0.38      0.49      2795\n",
      "           1       0.57      0.82      0.67      2795\n",
      "\n",
      "    accuracy                           0.60      5590\n",
      "   macro avg       0.63      0.60      0.58      5590\n",
      "weighted avg       0.63      0.60      0.58      5590\n",
      "\n",
      "[[3276 1228]\n",
      " [1634 2870]]\n",
      "              precision    recall  f1-score   support\n",
      "\n",
      "           0       0.67      0.73      0.70      4504\n",
      "           1       0.70      0.64      0.67      4504\n",
      "\n",
      "    accuracy                           0.68      9008\n",
      "   macro avg       0.68      0.68      0.68      9008\n",
      "weighted avg       0.68      0.68      0.68      9008\n",
      "\n",
      "8238\n",
      "3114\n",
      "5125\n"
     ]
    }
   ],
   "source": [
    "import pandas as pd\n",
    "import seaborn as sns\n",
    "import matplotlib.pyplot as plt\n",
    "import sklearn\n",
    "## Import for partitioning the data\n",
    "from sklearn.model_selection import train_test_split\n",
    "## Classifier Imports\n",
    "#from sklearn.tree import DecisionTreeClassifier\n",
    "#from sklearn.ensemble import RandomForestClassifier\n",
    "#from sklearn.ensemble import ExtraTreesClassifier\n",
    "from sklearn.ensemble import BaggingClassifier\n",
    "from sklearn.neighbors import KNeighborsClassifier\n",
    "# Imports for showing the data\n",
    "from sklearn.metrics import classification_report, confusion_matrix\n",
    "from sklearn import preprocessing\n",
    "from sklearn import tree\n",
    "# Import for saving the model\n",
    "from joblib import dump, load\n",
    "\n",
    "\n",
    "### Reading in the data##################################################################################\n",
    "dat = pd.read_csv(\"https://raw.githubusercontent.com/byui-cse/cse450-course/master/data/bank.csv\")\n",
    "#########################################################################################################\n",
    "\n",
    "### Encoding the data ###################################################################################\n",
    "### Assigning number values to all strings and removing 'contact' and 'day_of_week'\n",
    "## Seperating numerical and categorical so numerical does not get encoded\n",
    "dat_cat = dat.drop([\"age\", \"campaign\", \"pdays\",\t\"previous\", \"emp.var.rate\", \"cons.price.idx\", \"cons.conf.idx\", \"euribor3m\", \"nr.employed\", 'contact', 'day_of_week'], axis = 1)\n",
    "dat_num = dat.drop([\"job\", \"marital\", \"education\", \"default\", \"housing\", \"loan\", \"contact\", \"month\", \"day_of_week\", \"poutcome\", \"y\"], axis = 1)\n",
    "\n",
    "# Rejoining numerical and categorical\n",
    "dat_encoded = dat_cat.apply(preprocessing.LabelEncoder().fit_transform)\n",
    "dat_encoded = pd.concat([dat_num, dat_encoded], axis=1)\n",
    "##########################################################################################################\n",
    "\n",
    "#####Creating the High and Low Economy####################################################################\n",
    "dat_high = dat_encoded[ dat_encoded[\"cons.conf.idx\"] >= -37]\n",
    "dat_low = dat_encoded[ dat_encoded[\"cons.conf.idx\"] < -37]\n",
    "\n",
    "#dat_majority =dat[dat['y' == 'no']]\n",
    "#dat_majority =dat[dat['y' == 'yes']]\n",
    "#sampleAmount = len(dat_majority)\n",
    "##########################################################################################################\n",
    "\n",
    "### Creating the features and the target##################################################################\n",
    "X = dat_encoded.drop('y', axis=1)\n",
    "y = dat_encoded['y']\n",
    "\n",
    "X_high = dat_high.drop('y', axis=1)\n",
    "y_high = dat_high['y']\n",
    "\n",
    "X_low = dat_low.drop('y', axis=1)\n",
    "y_low = dat_low['y']\n",
    "\n",
    "## Partitioning the data into training and test data\n",
    "X_train, X_test, y_train, y_test = train_test_split(X, y, test_size=0.20)\n",
    "X_train_high, X_test_high, y_train_high, y_test_high = train_test_split(X_high, y_high, test_size=0.20)\n",
    "X_train_low, X_test_low, y_train_low, y_test_low = train_test_split(X_low, y_low, test_size=0.20)\n",
    "###########################################################################################################\n",
    "\n",
    "####OVERSAMPLING###########################################################################################\n",
    "from imblearn.over_sampling import RandomOverSampler\n",
    "# https://imbalanced-learn.readthedocs.io/en/stable/user_guide.html\n",
    "\n",
    "\n",
    "# Let's over sample the minority class, which samples with replacement until the\n",
    "# majority (died) and the minority (survived) are equal\n",
    "ro = RandomOverSampler()\n",
    "\n",
    "# Oversample, note that we oversample X and y at the same time in order to \n",
    "# make sure our features and targets stay synched.\n",
    "X_train_new, y_train_new = ro.fit_resample(X_train, y_train)\n",
    "X_test_new, y_test_new = ro.fit_resample(X_test, y_test)\n",
    "\n",
    "X_train_new_high, y_train_new_high = ro.fit_resample(X_train_high, y_train_high)\n",
    "X_test_new_high, y_test_new_high = ro.fit_resample(X_test_high, y_test_high)\n",
    "\n",
    "X_train_new_low, y_train_new_low = ro.fit_resample(X_train_low, y_train_low)\n",
    "X_test_new_low, y_test_new_low = ro.fit_resample(X_test_low, y_test_low)\n",
    "############################################################################################################\n",
    "\n",
    "#### Three different types of classifiers that were tried###################################################\n",
    "\n",
    "### OG Classifier\n",
    "### Was nice, but only can do so much\n",
    "#classifier = DecisionTreeClassifier()\n",
    "#classifier.fit(X_train_new, y_train_new)\n",
    "\n",
    "\n",
    "### Forest Classifier\n",
    "### A forest of decision trees.\n",
    "### Best precision of the three at ~0.86, but recall was low at ~0.38\n",
    "#clf = RandomForestClassifier(n_estimators=100, max_depth=None, min_samples_split=2, random_state=0)\n",
    "#clf = clf.fit(X_train_new, y_train_new)\n",
    "\n",
    "##Bagging Classifier\n",
    "# Personal Favorite and makes the most sense to use because of how deep our decision tree is.\n",
    "# Best Recall at ~0.64 and precision at ~0.80\n",
    "clf = BaggingClassifier(KNeighborsClassifier(),max_samples=0.5, max_features=0.25)\n",
    "clf = clf.fit(X_train_new, y_train_new)\n",
    "\n",
    "clf_high = BaggingClassifier(KNeighborsClassifier(),max_samples=0.5, max_features=0.25)\n",
    "clf_high = clf_high.fit(X_train_new_high, y_train_new_high)\n",
    "\n",
    "clf_low = BaggingClassifier(KNeighborsClassifier(),max_samples=0.5, max_features=0.25)\n",
    "clf_low = clf_low.fit(X_train_new_low, y_train_new_low)\n",
    "#############################################################################################################\n",
    "\n",
    "####Saving the Model#########################################################################################\n",
    "#dump(clf, 'teddyjustrightModel.joblib')\n",
    "#dump(clf_high, 'teddy2highModel.joblib')\n",
    "#dump(clf_low, 'teddy2lowModel.joblib') \n",
    "#############################################################################################################\n",
    "\n",
    "##PREDICITON TIME############################################################################################\n",
    "y_pred = clf.predict(X_test_new)\n",
    "\n",
    "y_pred_high = clf_low.predict(X_test_new_high)\n",
    "\n",
    "y_pred_low = clf_high.predict(X_test_new_low)\n",
    "\n",
    "## Displaying the data\n",
    "\n",
    "print(confusion_matrix(y_test_new, y_pred))\n",
    "print(classification_report(y_test_new, y_pred))\n",
    "\n",
    "print(confusion_matrix(y_test_new_high, y_pred_high))\n",
    "print(classification_report(y_test_new_high, y_pred_high))\n",
    "\n",
    "print(confusion_matrix(y_test_new_low, y_pred_low))\n",
    "print(classification_report(y_test_new_low, y_pred_low))\n",
    "\n",
    "print(len(X_test))\n",
    "print(len(X_test_high))\n",
    "print(len(X_test_low))\n",
    "#print(dat_high[\"cons.conf.idx\"].value_counts())\n",
    "\n",
    "### Showing the tree, but it takes a hot minute cause the tree is so big\n",
    "#fig, ax = plt.subplots(figsize=(20, 20))\n",
    "#tree.plot_tree(classifier, fontsize=10, feature_names=X.columns)\n",
    "#plt.show()\n",
    "##############################################################################################################"
   ]
  },
  {
   "cell_type": "code",
   "execution_count": 110,
   "metadata": {},
   "outputs": [
    {
     "name": "stderr",
     "output_type": "stream",
     "text": [
      "<ipython-input-110-7a55480516f9>:27: SettingWithCopyWarning: \n",
      "A value is trying to be set on a copy of a slice from a DataFrame.\n",
      "Try using .loc[row_indexer,col_indexer] = value instead\n",
      "\n",
      "See the caveats in the documentation: https://pandas.pydata.org/pandas-docs/stable/user_guide/indexing.html#returning-a-view-versus-a-copy\n",
      "  dat2[\"age_group\"] = pd.cut(dat2['age'], bins = bins, labels = labels, right = False)\n",
      "<ipython-input-110-7a55480516f9>:32: SettingWithCopyWarning: \n",
      "A value is trying to be set on a copy of a slice from a DataFrame.\n",
      "Try using .loc[row_indexer,col_indexer] = value instead\n",
      "\n",
      "See the caveats in the documentation: https://pandas.pydata.org/pandas-docs/stable/user_guide/indexing.html#returning-a-view-versus-a-copy\n",
      "  dat3[\"age_group\"] = pd.cut(dat3['age'], bins = bins, labels = labels, right = False)\n"
     ]
    },
    {
     "data": {
      "text/plain": [
       "Text(0.42499999999999716, 0.5, 'Subscribed')"
      ]
     },
     "execution_count": 110,
     "metadata": {},
     "output_type": "execute_result"
    },
    {
     "data": {
      "image/png": "[encoded data removed]",
      "text/plain": [
       "<Figure size 360x360 with 1 Axes>"
      ]
     },
     "metadata": {
      "needs_background": "light"
     },
     "output_type": "display_data"
    },
    {
     "data": {
      "image/png": "[encoded data removed]",
      "text/plain": [
       "<Figure size 360x360 with 1 Axes>"
      ]
     },
     "metadata": {
      "needs_background": "light"
     },
     "output_type": "display_data"
    },
    {
     "data": {
      "image/png": "[encoded data removed]",
      "text/plain": [
       "<Figure size 360x360 with 1 Axes>"
      ]
     },
     "metadata": {
      "needs_background": "light"
     },
     "output_type": "display_data"
    },
    {
     "data": {
      "image/png": "[encoded data removed]",
      "text/plain": [
       "<Figure size 360x360 with 1 Axes>"
      ]
     },
     "metadata": {
      "needs_background": "light"
     },
     "output_type": "display_data"
    },
    {
     "data": {
      "image/png": "[encoded data removed]",
      "text/plain": [
       "<Figure size 360x360 with 1 Axes>"
      ]
     },
     "metadata": {
      "needs_background": "light"
     },
     "output_type": "display_data"
    },
    {
     "data": {
      "image/png": "[encoded data removed]",
      "text/plain": [
       "<Figure size 360x360 with 1 Axes>"
      ]
     },
     "metadata": {
      "needs_background": "light"
     },
     "output_type": "display_data"
    }
   ],
   "source": [
    "from sklearn.cluster import KMeans\n",
    "\n",
    "dat = pd.read_csv(\"https://raw.githubusercontent.com/byui-cse/cse450-course/master/data/bank.csv\")\n",
    "#dat['unencoded_job'] = dat['job']\n",
    "dat_cat = dat.drop([\"age\", \"campaign\", \"pdays\",\t\"previous\", \"emp.var.rate\", \"cons.price.idx\", \"cons.conf.idx\", \"euribor3m\", \"nr.employed\", 'contact', 'day_of_week'], axis = 1)\n",
    "dat_num = dat.drop([\"job\", \"marital\", \"education\", \"default\", \"housing\", \"loan\", \"contact\", \"month\", \"day_of_week\", \"poutcome\", \"y\"], axis = 1)\n",
    "\n",
    "# Rejoining numerical and categorical\n",
    "dat_encoded = dat_cat.apply(preprocessing.LabelEncoder().fit_transform)\n",
    "dat_encoded = pd.concat([dat_num, dat_encoded], axis=1)\n",
    "\n",
    "dat_high = dat_encoded[ dat_encoded[\"cons.conf.idx\"] >= -37]\n",
    "dat_low = dat_encoded[ dat_encoded[\"cons.conf.idx\"] < -37]\n",
    "\n",
    "#kmeans = KMeans(n_clusters=4).fit(dat_encoded)\n",
    "#centroids = kmeans.cluster_centers_\n",
    "#print(centroids)\n",
    "#plt.scatter(dat['previous'], dat['y'], c= kmeans.labels_.astype(float), s=50, alpha=0.5)\n",
    "#plt.show()\n",
    "\n",
    "dat2 = dat_high\n",
    "#dat2['day_of_week'] = dat2['day_of_week'].map({'mon': 0, 'tue': 0, 'wed': 1, 'thurs': 1, 'fri': 2, 'sat': 2, 'sun': 2})\n",
    "\n",
    "#dat2 = dat[dat['previous'] != 0]\n",
    "bins = [18,30,65,100]\n",
    "labels = ['Young Adult', \"Adult\", 'Senior']\n",
    "dat2[\"age_group\"] = pd.cut(dat2['age'], bins = bins, labels = labels, right = False)\n",
    "\n",
    "#dat2['subscribed'] = dat2['y'].map({'yes': 1, 'no': 0})\n",
    "\n",
    "dat3 = dat_low\n",
    "dat3[\"age_group\"] = pd.cut(dat3['age'], bins = bins, labels = labels, right = False)\n",
    "\n",
    "#dat3['subscribed'] = dat3['y'].map({'yes': 1, 'no': 0})\n",
    "#dat.day_of_week.value_counts()\n",
    "#sns.countplot(data = dat,  x = \"previous\", hue=\"y\").set_title(\"Amount of Contacts in Previous Campaign\")\n",
    "#dat.previous.value_counts()\n",
    "sns.catplot(data = dat2, x = \"age_group\", y = 'y', kind = 'bar')\n",
    "plt.title(\"Good Economy\")\n",
    "plt.xlabel(\"Age Group\")\n",
    "plt.ylabel(\"Subscribed\")\n",
    "\n",
    "sns.catplot(data = dat3, x = \"age_group\", y = 'y', kind = 'bar')\n",
    "plt.title(\"Bad Economy\")\n",
    "plt.xlabel(\"Age Group\")\n",
    "plt.ylabel(\"Subscribed\")\n",
    "\n",
    "sns.catplot(data = dat2, x = \"education\", y = 'y', kind = 'bar')\n",
    "plt.title(\"Good Economy\")\n",
    "plt.xlabel(\"Education\")\n",
    "plt.ylabel(\"Subscribed\")\n",
    "\n",
    "sns.catplot(data = dat3, x = \"education\", y = 'y', kind = 'bar')\n",
    "plt.title(\"Bad Economy\")\n",
    "plt.xlabel(\"Education\")\n",
    "plt.ylabel(\"Subscribed\")\n",
    "\n",
    "sns.catplot(data = dat2, x = \"job\", y = 'y', kind = 'bar')\n",
    "plt.title(\"Good Economy\")\n",
    "plt.xlabel(\"Job\")\n",
    "plt.ylabel(\"Subscribed\")\n",
    "\n",
    "sns.catplot(data = dat3, x = \"job\", y = 'y', kind = 'bar')\n",
    "plt.title(\"Bad Economy\")\n",
    "plt.xlabel(\"Job\")\n",
    "plt.ylabel(\"Subscribed\")\n",
    "\n",
    "#dat.head(7786)\n",
    "#dat3.head(40)"
   ]
  }
 ],
 "metadata": {
  "kernelspec": {
   "display_name": "Python 3",
   "language": "python",
   "name": "python3"
  },
  "language_info": {
   "codemirror_mode": {
    "name": "ipython",
    "version": 3
   },
   "file_extension": ".py",
   "mimetype": "text/x-python",
   "name": "python",
   "nbconvert_exporter": "python",
   "pygments_lexer": "ipython3",
   "version": "3.8.7"
  }
 },
 "nbformat": 4,
 "nbformat_minor": 4
}
