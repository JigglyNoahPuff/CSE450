{
 "cells": [
  {
   "cell_type": "markdown",
   "metadata": {
    "id": "514idhniD18J"
   },
   "source": [
    "# Analysis of Data"
   ]
  },
  {
   "cell_type": "code",
   "execution_count": 30,
   "metadata": {
    "id": "mA0HPVmIBT4C"
   },
   "outputs": [],
   "source": [
    "import pandas as pd\n",
    "import altair as alt\n",
    "import matplotlib.pyplot as plt\n",
    "\n",
    "housing = pd.read_csv('https://raw.githubusercontent.com/byui-cse/cse450-course/master/data/housing.csv')\n",
    "#housing[\"price_per_sqft\"] = housing[\"price\"] / housing[\"sqft_living\"]"
   ]
  },
  {
   "cell_type": "code",
   "execution_count": 2,
   "metadata": {
    "colab": {
     "base_uri": "https://localhost:8080/",
     "height": 368
    },
    "id": "ALLMN63FPyEQ",
    "outputId": "804ca4fe-1f44-4e48-8501-4bd344c01024"
   },
   "outputs": [
    {
     "data": {
      "text/plain": [
       "DataTransformerRegistry.enable('default')"
      ]
     },
     "execution_count": 2,
     "metadata": {},
     "output_type": "execute_result"
    }
   ],
   "source": [
    "alt.data_transformers.disable_max_rows()"
   ]
  },
  {
   "cell_type": "markdown",
   "metadata": {
    "id": "JDVMuox--8kc"
   },
   "source": [
    "import seaborn as sns\n",
    "import matplotlib.pyplot as plt\n",
    "\n",
    "def plot_heat(df):\n",
    "  plt.figure(figsize=(30, 10)) #change figure size\n",
    "  sns.heatmap(df.drop([\"id\"], axis = 1).corr(), #data parameter/arguement\n",
    "            annot = True, # Adds the Correlation value to each square\n",
    "            fmt = '.1g', #reduce decimal places\n",
    "            cmap = \"coolwarm\", #change the color scheme\n",
    "            square = True,\n",
    "  )# Model"
   ]
  },
  {
   "cell_type": "code",
   "execution_count": 34,
   "metadata": {
    "id": "PDFQsv2o4CKY"
   },
   "outputs": [],
   "source": [
    "import xgboost as xgb\n",
    "#from sklearn.model_selection import train_test_split, RandomizedSearchCV, cross_val_score\n",
    "from sklearn.model_selection import train_test_split, cross_val_score\n",
    "from sklearn.preprocessing import MinMaxScaler\n",
    "import numpy as np\n",
    "from xgboost import XGBRegressor\n",
    "from sklearn.metrics import mean_squared_error\n",
    "#from datetime import datetime\n",
    "\n",
    "def create_model(df, show_heat=False):\n",
    "    if show_heat:\n",
    "        plot_heat(df)\n",
    "    df[\"lot_minus_living\"] = df[\"sqft_lot\"] - df[\"sqft_living\"]\n",
    "    df[\"year_sold\"] = df.date.str[:4]\n",
    "    df[\"month_sold\"] = df.date.str[4:6]\n",
    "    df[\"ratio_to_neighbors\"] = df[\"sqft_living\"] / df[\"sqft_living15\"]\n",
    "    bins = [0.0,1.0,2.0,3.0,4.0,5.0,6.0,7.0]\n",
    "    labels = [1,2,3,4,5,6,7]\n",
    "    df[\"bin\"] = pd.cut(df['bathrooms'], bins, labels=labels)\n",
    "    df = df[df['price'] < 2000000]\n",
    "    df[\"yr_renovated\"] = np.where(df[\"yr_renovated\"] == 0, df[\"yr_built\"], df[\"yr_renovated\"])\n",
    "    d = df.drop([\"id\", \"date\"], axis=1)\n",
    "    d['zipcode'] = d.zipcode.astype(\"str\")\n",
    "    d = pd.get_dummies(d)\n",
    "    scaler = MinMaxScaler()\n",
    "    d = pd.DataFrame(scaler.fit_transform(d))\n",
    "    mapper = {0: \"price\"}\n",
    "    d.rename(mapper=mapper, axis=1, inplace=True)\n",
    "    X = d.drop([\"price\"], axis=1)\n",
    "    y = df.price\n",
    "    X_test, X_train, y_test, y_train = train_test_split(X, y, test_size=0.3, random_state=42)\n",
    "    model = XGBRegressor(objective=\"reg:squarederror\", subsample=0.3, random_state=42)\n",
    "    model.fit(X_train, y_train)\n",
    "    score = model.score(X_train, y_train)\n",
    "    # print(\"Training score:\", score)\n",
    "    cv_score = cross_val_score(model, X_train, y_train, cv=10)\n",
    "    # print(\"CV mean Score:\", cv_score.mean())\n",
    "    predictions = model.predict(X_test)\n",
    "    result = mean_squared_error(y_test, predictions, squared=True) ** 0.5\n",
    "    # print(\"Result: \", result)\n",
    "    return result, model"
   ]
  },
  {
   "cell_type": "code",
   "execution_count": 10,
   "metadata": {
    "colab": {
     "base_uri": "https://localhost:8080/"
    },
    "id": "Ax-WHsh4-Hu6",
    "outputId": "81f3acf9-4d97-4ecf-ffb0-38a0b1410a7d"
   },
   "outputs": [
    {
     "data": {
      "text/plain": [
       "115204.86766305543"
      ]
     },
     "execution_count": 10,
     "metadata": {},
     "output_type": "execute_result"
    }
   ],
   "source": [
    "predictions = model.predict(X_test)\n",
    "result = mean_squared_error(y_test, predictions, squared=False)\n",
    "result"
   ]
  },
  {
   "cell_type": "code",
   "execution_count": 47,
   "metadata": {
    "id": "ahZEnakQu9M-"
   },
   "outputs": [],
   "source": [
    "def create_models(df, accuracy, decrease_accuracy=1, bins=10, start=200000, jump=50000):\n",
    "    end = start #+ jump\n",
    "    ranges = {}\n",
    "    for i in range(bins):\n",
    "        score = 1.0\n",
    "        while score < accuracy:\n",
    "            end += jump\n",
    "            temp = df[df['price'] < end]\n",
    "            temp = temp[temp['price'] >= start]\n",
    "            score, model = create_model(temp)\n",
    "            #end += jump\n",
    "        print(end)\n",
    "        print(temp.price.max())\n",
    "    \n",
    "    \n",
    "        accuracy *= decrease_accuracy\n",
    "        ranges[i + 1] = {\"Range\": (start, end), \n",
    "                         \"Percent Price Difference\": f\"{round((score / end) * 100, 2)}%\",\n",
    "                         \"Uncertainty\": f\"${round(score,2)}\",\n",
    "                         \"model\": model}\n",
    "        start = end\n",
    "        end += jump\n",
    "    return ranges"
   ]
  },
  {
   "cell_type": "markdown",
   "metadata": {
    "id": "cFWXTsSz_2R2"
   },
   "source": [
    "# 8 Accurate Models for the Homes Under \\$1,600,000\n",
    "- NOTE: There are 8 models here, there are not more due to the limited number of homes in the database that are above \\$1,600,000"
   ]
  },
  {
   "cell_type": "code",
   "execution_count": 48,
   "metadata": {
    "id": "fW8Qf4uE7mf1"
   },
   "outputs": [
    {
     "name": "stdout",
     "output_type": "stream",
     "text": [
      "250000\n",
      "249950.0\n",
      "350000\n",
      "349990.0\n",
      "450000\n",
      "449999.0\n",
      "550000\n",
      "549995.0\n",
      "650000\n",
      "649990.0\n",
      "800000\n",
      "799990.0\n",
      "1000000\n",
      "999999.0\n",
      "1250000\n",
      "1249000.0\n"
     ]
    }
   ],
   "source": [
    "data = create_models(housing, 5000, decrease_accuracy=1.5, bins=8)"
   ]
  },
  {
   "cell_type": "code",
   "execution_count": 50,
   "metadata": {
    "colab": {
     "base_uri": "https://localhost:8080/"
    },
    "id": "MOiaHm8xFdz-",
    "outputId": "f9548feb-2724-442d-9a57-e44c23cb2ba9"
   },
   "outputs": [
    {
     "name": "stdout",
     "output_type": "stream",
     "text": [
      "Model: 1\n",
      "Price Range: (200000, 250000)\n",
      "Percent Off: 7.04%\n",
      "Uncertainty: $17602.91 \n",
      "\n",
      "Model: 2\n",
      "Price Range: (250000, 350000)\n",
      "Percent Off: 8.52%\n",
      "Uncertainty: $29837.05 \n",
      "\n",
      "Model: 3\n",
      "Price Range: (350000, 450000)\n",
      "Percent Off: 7.18%\n",
      "Uncertainty: $32298.77 \n",
      "\n",
      "Model: 4\n",
      "Price Range: (450000, 550000)\n",
      "Percent Off: 6.55%\n",
      "Uncertainty: $36010.4 \n",
      "\n",
      "Model: 5\n",
      "Price Range: (550000, 650000)\n",
      "Percent Off: 5.48%\n",
      "Uncertainty: $35615.91 \n",
      "\n",
      "Model: 6\n",
      "Price Range: (650000, 800000)\n",
      "Percent Off: 6.3%\n",
      "Uncertainty: $50366.66 \n",
      "\n",
      "Model: 7\n",
      "Price Range: (800000, 1000000)\n",
      "Percent Off: 6.84%\n",
      "Uncertainty: $68357.07 \n",
      "\n",
      "Model: 8\n",
      "Price Range: (1000000, 1250000)\n",
      "Percent Off: 7.44%\n",
      "Uncertainty: $93037.87 \n",
      "\n"
     ]
    }
   ],
   "source": [
    "for key,value in data.items():\n",
    "  print(\"Model:\", key)\n",
    "  print(\"Price Range:\", value['Range'])\n",
    "  print(\"Percent Off:\", value['Percent Price Difference'])\n",
    "  print(\"Uncertainty:\", value['Uncertainty'],'\\n')"
   ]
  },
  {
   "cell_type": "code",
   "execution_count": null,
   "metadata": {
    "colab": {
     "base_uri": "https://localhost:8080/"
    },
    "id": "8CiHmDyNARdZ",
    "outputId": "46365a51-75ed-4e9f-9414-ad1828c77dd7"
   },
   "outputs": [
    {
     "name": "stdout",
     "output_type": "stream",
     "text": [
      "There are only 426 homes that are over $1,600,000. This is hardly enough to really do any good accurate model to predict the price of these homes.\n"
     ]
    }
   ],
   "source": [
    "print(\"There are only\", len(housing[housing['price'] > 1600000]), \"homes that are over $1,600,000. This is hardly enough to really do any good accurate model to predict the price of these homes.\")"
   ]
  }
 ],
 "metadata": {
  "colab": {
   "collapsed_sections": [],
   "name": "housing.ipynb",
   "provenance": []
  },
  "kernelspec": {
   "display_name": "Python 3",
   "language": "python",
   "name": "python3"
  },
  "language_info": {
   "codemirror_mode": {
    "name": "ipython",
    "version": 3
   },
   "file_extension": ".py",
   "mimetype": "text/x-python",
   "name": "python",
   "nbconvert_exporter": "python",
   "pygments_lexer": "ipython3",
   "version": "3.9.0"
  }
 },
 "nbformat": 4,
 "nbformat_minor": 4
}
