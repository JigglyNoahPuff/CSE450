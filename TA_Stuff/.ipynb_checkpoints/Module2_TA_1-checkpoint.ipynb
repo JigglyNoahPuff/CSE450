{
 "cells": [
  {
   "cell_type": "code",
   "execution_count": 1,
   "id": "utility-original",
   "metadata": {},
   "outputs": [],
   "source": [
    "import seaborn as sns\n",
    "import altair as alt\n",
    "import pandas as pd\n",
    "\n",
    "from sklearn.model_selection import train_test_split as TTS\n",
    "from sklearn.ensemble import RandomForestClassifier\n",
    "from imblearn.over_sampling import RandomOverSampler"
   ]
  },
  {
   "cell_type": "code",
   "execution_count": 2,
   "id": "completed-initial",
   "metadata": {},
   "outputs": [],
   "source": [
    "banco = pd.read_csv('https://raw.githubusercontent.com/byui-cse/cse450-course/master/data/bank.csv')\n",
    "ro = RandomOverSampler()"
   ]
  },
  {
   "cell_type": "code",
   "execution_count": 3,
   "id": "miniature-irish",
   "metadata": {},
   "outputs": [],
   "source": [
    "#Bin the ages\n",
    "### Make some dictionaries\n",
    "d1 = dict.fromkeys(range(30), 'Young')\n",
    "d2 = dict.fromkeys(range(30,60), 'Middle')\n",
    "d3 = dict.fromkeys(range(60,100), 'Old')\n",
    "### Merge into one dictionary\n",
    "d = {**d1, **d2, **d3}\n",
    "\n",
    "banco.age = banco.age.map(d)"
   ]
  },
  {
   "cell_type": "code",
   "execution_count": 4,
   "id": "dietary-share",
   "metadata": {},
   "outputs": [],
   "source": [
    "banco_num =banco[[\"campaign\", \"pdays\",\t\"previous\", \"emp.var.rate\", \"cons.price.idx\", \"cons.conf.idx\", \"euribor3m\", \"nr.employed\", 'contact', 'day_of_week']]\n",
    "banco_cat = banco[[\"age\", \"job\", \"marital\", \"education\", \"default\", \"housing\", \"loan\", \"contact\", \"month\", \"day_of_week\", \"poutcome\", \"y\"]]"
   ]
  },
  {
   "cell_type": "code",
   "execution_count": 7,
   "id": "neither-sudan",
   "metadata": {},
   "outputs": [
    {
     "data": {
      "text/plain": [
       "Index(['age_Middle', 'age_Old', 'age_Young', 'job_admin.', 'job_blue-collar',\n",
       "       'job_entrepreneur', 'job_housemaid', 'job_management', 'job_retired',\n",
       "       'job_self-employed', 'job_services', 'job_student', 'job_technician',\n",
       "       'job_unemployed', 'job_unknown', 'marital_divorced', 'marital_married',\n",
       "       'marital_single', 'marital_unknown', 'education_basic.4y',\n",
       "       'education_basic.6y', 'education_basic.9y', 'education_high.school',\n",
       "       'education_illiterate', 'education_professional.course',\n",
       "       'education_university.degree', 'education_unknown', 'default_no',\n",
       "       'default_unknown', 'default_yes', 'housing_no', 'housing_unknown',\n",
       "       'housing_yes', 'loan_no', 'loan_unknown', 'loan_yes',\n",
       "       'contact_cellular', 'contact_telephone', 'month_apr', 'month_aug',\n",
       "       'month_dec', 'month_jul', 'month_jun', 'month_mar', 'month_may',\n",
       "       'month_nov', 'month_oct', 'month_sep', 'day_of_week_fri',\n",
       "       'day_of_week_mon', 'day_of_week_thu', 'day_of_week_tue',\n",
       "       'day_of_week_wed', 'poutcome_failure', 'poutcome_nonexistent',\n",
       "       'poutcome_success', 'y_no', 'y_yes', 'campaign', 'pdays', 'previous',\n",
       "       'emp.var.rate', 'cons.price.idx', 'cons.conf.idx', 'euribor3m',\n",
       "       'nr.employed', 'contact', 'day_of_week'],\n",
       "      dtype='object')"
      ]
     },
     "execution_count": 7,
     "metadata": {},
     "output_type": "execute_result"
    }
   ],
   "source": [
    "banco_encoded = pd.concat([pd.get_dummies(banco_cat), banco_num], axis=1)\n",
    "\n",
    "banco_encoded.columns"
   ]
  },
  {
   "cell_type": "code",
   "execution_count": 8,
   "id": "broke-paris",
   "metadata": {},
   "outputs": [
    {
     "data": {
      "text/html": [
       "<div>\n",
       "<style scoped>\n",
       "    .dataframe tbody tr th:only-of-type {\n",
       "        vertical-align: middle;\n",
       "    }\n",
       "\n",
       "    .dataframe tbody tr th {\n",
       "        vertical-align: top;\n",
       "    }\n",
       "\n",
       "    .dataframe thead th {\n",
       "        text-align: right;\n",
       "    }\n",
       "</style>\n",
       "<table border=\"1\" class=\"dataframe\">\n",
       "  <thead>\n",
       "    <tr style=\"text-align: right;\">\n",
       "      <th></th>\n",
       "      <th>index</th>\n",
       "      <th>y_yes</th>\n",
       "    </tr>\n",
       "  </thead>\n",
       "  <tbody>\n",
       "    <tr>\n",
       "      <th>0</th>\n",
       "      <td>age_Middle</td>\n",
       "      <td>-0.127971</td>\n",
       "    </tr>\n",
       "    <tr>\n",
       "      <th>1</th>\n",
       "      <td>age_Old</td>\n",
       "      <td>0.154584</td>\n",
       "    </tr>\n",
       "    <tr>\n",
       "      <th>2</th>\n",
       "      <td>age_Young</td>\n",
       "      <td>0.063160</td>\n",
       "    </tr>\n",
       "    <tr>\n",
       "      <th>3</th>\n",
       "      <td>job_admin.</td>\n",
       "      <td>0.031426</td>\n",
       "    </tr>\n",
       "    <tr>\n",
       "      <th>4</th>\n",
       "      <td>job_blue-collar</td>\n",
       "      <td>-0.074423</td>\n",
       "    </tr>\n",
       "  </tbody>\n",
       "</table>\n",
       "</div>"
      ],
      "text/plain": [
       "             index     y_yes\n",
       "0       age_Middle -0.127971\n",
       "1          age_Old  0.154584\n",
       "2        age_Young  0.063160\n",
       "3       job_admin.  0.031426\n",
       "4  job_blue-collar -0.074423"
      ]
     },
     "execution_count": 8,
     "metadata": {},
     "output_type": "execute_result"
    }
   ],
   "source": [
    "corY = pd.DataFrame(banco_encoded.corr().y_yes).reset_index()\n",
    "corY.head()"
   ]
  },
  {
   "cell_type": "code",
   "execution_count": 9,
   "id": "charming-start",
   "metadata": {},
   "outputs": [
    {
     "data": {
      "text/html": [
       "<div>\n",
       "<style scoped>\n",
       "    .dataframe tbody tr th:only-of-type {\n",
       "        vertical-align: middle;\n",
       "    }\n",
       "\n",
       "    .dataframe tbody tr th {\n",
       "        vertical-align: top;\n",
       "    }\n",
       "\n",
       "    .dataframe thead th {\n",
       "        text-align: right;\n",
       "    }\n",
       "</style>\n",
       "<table border=\"1\" class=\"dataframe\">\n",
       "  <thead>\n",
       "    <tr style=\"text-align: right;\">\n",
       "      <th>y</th>\n",
       "      <th>age</th>\n",
       "      <th>no</th>\n",
       "      <th>yes</th>\n",
       "    </tr>\n",
       "  </thead>\n",
       "  <tbody>\n",
       "    <tr>\n",
       "      <th>0</th>\n",
       "      <td>Middle</td>\n",
       "      <td>0.905436</td>\n",
       "      <td>0.094564</td>\n",
       "    </tr>\n",
       "    <tr>\n",
       "      <th>1</th>\n",
       "      <td>Old</td>\n",
       "      <td>0.604359</td>\n",
       "      <td>0.395641</td>\n",
       "    </tr>\n",
       "    <tr>\n",
       "      <th>2</th>\n",
       "      <td>Young</td>\n",
       "      <td>0.837361</td>\n",
       "      <td>0.162639</td>\n",
       "    </tr>\n",
       "  </tbody>\n",
       "</table>\n",
       "</div>"
      ],
      "text/plain": [
       "y     age        no       yes\n",
       "0  Middle  0.905436  0.094564\n",
       "1     Old  0.604359  0.395641\n",
       "2   Young  0.837361  0.162639"
      ]
     },
     "execution_count": 9,
     "metadata": {},
     "output_type": "execute_result"
    }
   ],
   "source": [
    "age_percent = pd.crosstab(banco.age, banco.y, normalize='index').reset_index()\n",
    "age_percent.head()"
   ]
  },
  {
   "cell_type": "code",
   "execution_count": 10,
   "id": "acquired-certification",
   "metadata": {},
   "outputs": [
    {
     "data": {
      "text/html": [
       "<div>\n",
       "<style scoped>\n",
       "    .dataframe tbody tr th:only-of-type {\n",
       "        vertical-align: middle;\n",
       "    }\n",
       "\n",
       "    .dataframe tbody tr th {\n",
       "        vertical-align: top;\n",
       "    }\n",
       "\n",
       "    .dataframe thead th {\n",
       "        text-align: right;\n",
       "    }\n",
       "</style>\n",
       "<table border=\"1\" class=\"dataframe\">\n",
       "  <thead>\n",
       "    <tr style=\"text-align: right;\">\n",
       "      <th></th>\n",
       "      <th>job</th>\n",
       "      <th>no</th>\n",
       "      <th>yes</th>\n",
       "    </tr>\n",
       "  </thead>\n",
       "  <tbody>\n",
       "    <tr>\n",
       "      <th>0</th>\n",
       "      <td>admin.</td>\n",
       "      <td>0.870274</td>\n",
       "      <td>0.129726</td>\n",
       "    </tr>\n",
       "    <tr>\n",
       "      <th>1</th>\n",
       "      <td>blue-collar</td>\n",
       "      <td>0.931057</td>\n",
       "      <td>0.068943</td>\n",
       "    </tr>\n",
       "    <tr>\n",
       "      <th>2</th>\n",
       "      <td>entrepreneur</td>\n",
       "      <td>0.914835</td>\n",
       "      <td>0.085165</td>\n",
       "    </tr>\n",
       "    <tr>\n",
       "      <th>3</th>\n",
       "      <td>housemaid</td>\n",
       "      <td>0.900000</td>\n",
       "      <td>0.100000</td>\n",
       "    </tr>\n",
       "    <tr>\n",
       "      <th>4</th>\n",
       "      <td>management</td>\n",
       "      <td>0.887825</td>\n",
       "      <td>0.112175</td>\n",
       "    </tr>\n",
       "  </tbody>\n",
       "</table>\n",
       "</div>"
      ],
      "text/plain": [
       "            job        no       yes\n",
       "0        admin.  0.870274  0.129726\n",
       "1   blue-collar  0.931057  0.068943\n",
       "2  entrepreneur  0.914835  0.085165\n",
       "3     housemaid  0.900000  0.100000\n",
       "4    management  0.887825  0.112175"
      ]
     },
     "execution_count": 10,
     "metadata": {},
     "output_type": "execute_result"
    }
   ],
   "source": [
    "job_percent = pd.crosstab(banco.job, banco.y, normalize='index').reset_index()\n",
    "job_percent.columns.name =None\n",
    "job_percent.head()"
   ]
  },
  {
   "cell_type": "code",
   "execution_count": 11,
   "id": "breathing-corps",
   "metadata": {},
   "outputs": [
    {
     "data": {
      "text/html": [
       "\n",
       "<div id=\"altair-viz-ae1cbf8dc48e4cb4a9560a16bf83c562\"></div>\n",
       "<script type=\"text/javascript\">\n",
       "  (function(spec, embedOpt){\n",
       "    let outputDiv = document.currentScript.previousElementSibling;\n",
       "    if (outputDiv.id !== \"altair-viz-ae1cbf8dc48e4cb4a9560a16bf83c562\") {\n",
       "      outputDiv = document.getElementById(\"altair-viz-ae1cbf8dc48e4cb4a9560a16bf83c562\");\n",
       "    }\n",
       "    const paths = {\n",
       "      \"vega\": \"https://cdn.jsdelivr.net/npm//vega@5?noext\",\n",
       "      \"vega-lib\": \"https://cdn.jsdelivr.net/npm//vega-lib?noext\",\n",
       "      \"vega-lite\": \"https://cdn.jsdelivr.net/npm//vega-lite@4.8.1?noext\",\n",
       "      \"vega-embed\": \"https://cdn.jsdelivr.net/npm//vega-embed@6?noext\",\n",
       "    };\n",
       "\n",
       "    function loadScript(lib) {\n",
       "      return new Promise(function(resolve, reject) {\n",
       "        var s = document.createElement('script');\n",
       "        s.src = paths[lib];\n",
       "        s.async = true;\n",
       "        s.onload = () => resolve(paths[lib]);\n",
       "        s.onerror = () => reject(`Error loading script: ${paths[lib]}`);\n",
       "        document.getElementsByTagName(\"head\")[0].appendChild(s);\n",
       "      });\n",
       "    }\n",
       "\n",
       "    function showError(err) {\n",
       "      outputDiv.innerHTML = `<div class=\"error\" style=\"color:red;\">${err}</div>`;\n",
       "      throw err;\n",
       "    }\n",
       "\n",
       "    function displayChart(vegaEmbed) {\n",
       "      vegaEmbed(outputDiv, spec, embedOpt)\n",
       "        .catch(err => showError(`Javascript Error: ${err.message}<br>This usually means there's a typo in your chart specification. See the javascript console for the full traceback.`));\n",
       "    }\n",
       "\n",
       "    if(typeof define === \"function\" && define.amd) {\n",
       "      requirejs.config({paths});\n",
       "      require([\"vega-embed\"], displayChart, err => showError(`Error loading script: ${err.message}`));\n",
       "    } else if (typeof vegaEmbed === \"function\") {\n",
       "      displayChart(vegaEmbed);\n",
       "    } else {\n",
       "      loadScript(\"vega\")\n",
       "        .then(() => loadScript(\"vega-lite\"))\n",
       "        .then(() => loadScript(\"vega-embed\"))\n",
       "        .catch(showError)\n",
       "        .then(() => displayChart(vegaEmbed));\n",
       "    }\n",
       "  })({\"config\": {\"view\": {\"continuousWidth\": 400, \"continuousHeight\": 300}}, \"data\": {\"name\": \"data-b8a840191e1e00b31f6bbc0e8bf449ae\"}, \"mark\": \"bar\", \"encoding\": {\"color\": {\"condition\": {\"value\": \"steelblue\", \"test\": \"(datum.y_yes > 0)\"}, \"value\": \"red\"}, \"x\": {\"type\": \"nominal\", \"field\": \"index\"}, \"y\": {\"type\": \"quantitative\", \"field\": \"y_yes\"}}, \"height\": 500, \"width\": 1000, \"$schema\": \"https://vega.github.io/schema/vega-lite/v4.8.1.json\", \"datasets\": {\"data-b8a840191e1e00b31f6bbc0e8bf449ae\": [{\"index\": \"age_Middle\", \"y_yes\": -0.12797098868455928}, {\"index\": \"age_Old\", \"y_yes\": 0.15458376073812272}, {\"index\": \"age_Young\", \"y_yes\": 0.06315972439428025}, {\"index\": \"job_admin.\", \"y_yes\": 0.03142601398266647}, {\"index\": \"job_blue-collar\", \"y_yes\": -0.0744232871682964}, {\"index\": \"job_entrepreneur\", \"y_yes\": -0.016643882021650524}, {\"index\": \"job_housemaid\", \"y_yes\": -0.0065049323428597585}, {\"index\": \"job_management\", \"y_yes\": -0.0004188620737695401}, {\"index\": \"job_retired\", \"y_yes\": 0.0922208429612557}, {\"index\": \"job_self-employed\", \"y_yes\": -0.004662544896685188}, {\"index\": \"job_services\", \"y_yes\": -0.03230086750341445}, {\"index\": \"job_student\", \"y_yes\": 0.09395498918093796}, {\"index\": \"job_technician\", \"y_yes\": -0.006148639356561232}, {\"index\": \"job_unemployed\", \"y_yes\": 0.01475189557285271}, {\"index\": \"job_unknown\", \"y_yes\": -0.00015149284487641612}, {\"index\": \"marital_divorced\", \"y_yes\": -0.010608045255554782}, {\"index\": \"marital_married\", \"y_yes\": -0.04339777642507534}, {\"index\": \"marital_single\", \"y_yes\": 0.05413349870830784}, {\"index\": \"marital_unknown\", \"y_yes\": 0.005210793085579798}, {\"index\": \"education_basic.4y\", \"y_yes\": -0.010797987827193035}, {\"index\": \"education_basic.6y\", \"y_yes\": -0.023516789289352955}, {\"index\": \"education_basic.9y\", \"y_yes\": -0.04513506929531431}, {\"index\": \"education_high.school\", \"y_yes\": -0.007452488955100385}, {\"index\": \"education_illiterate\", \"y_yes\": 0.007246189070148861}, {\"index\": \"education_professional.course\", \"y_yes\": 0.0010031761401020185}, {\"index\": \"education_university.degree\", \"y_yes\": 0.05036375375790681}, {\"index\": \"education_unknown\", \"y_yes\": 0.021430064315103286}, {\"index\": \"default_no\", \"y_yes\": 0.09934448817772387}, {\"index\": \"default_unknown\", \"y_yes\": -0.09929338741810341}, {\"index\": \"default_yes\", \"y_yes\": -0.0030410129835291293}, {\"index\": \"housing_no\", \"y_yes\": -0.011085158131250286}, {\"index\": \"housing_unknown\", \"y_yes\": -0.0022700266583405913}, {\"index\": \"housing_yes\", \"y_yes\": 0.011742938367143569}, {\"index\": \"loan_no\", \"y_yes\": 0.005123050777054505}, {\"index\": \"loan_unknown\", \"y_yes\": -0.0022700266583405913}, {\"index\": \"loan_yes\", \"y_yes\": -0.00446611744048806}, {\"index\": \"contact_cellular\", \"y_yes\": 0.14477305571200005}, {\"index\": \"contact_telephone\", \"y_yes\": -0.1447730557120004}, {\"index\": \"month_apr\", \"y_yes\": 0.07613640590941828}, {\"index\": \"month_aug\", \"y_yes\": -0.008812619730534151}, {\"index\": \"month_dec\", \"y_yes\": 0.0793033774534737}, {\"index\": \"month_jul\", \"y_yes\": -0.03223010043680424}, {\"index\": \"month_jun\", \"y_yes\": -0.009181824565365709}, {\"index\": \"month_mar\", \"y_yes\": 0.14401401664144486}, {\"index\": \"month_may\", \"y_yes\": -0.1082711838751651}, {\"index\": \"month_nov\", \"y_yes\": -0.011795938125969628}, {\"index\": \"month_oct\", \"y_yes\": 0.13736593059421298}, {\"index\": \"month_sep\", \"y_yes\": 0.12606735856323723}, {\"index\": \"day_of_week_fri\", \"y_yes\": -0.0069962973277849835}, {\"index\": \"day_of_week_mon\", \"y_yes\": -0.02126489473965878}, {\"index\": \"day_of_week_thu\", \"y_yes\": 0.013888429805786149}, {\"index\": \"day_of_week_tue\", \"y_yes\": 0.008046143351428227}, {\"index\": \"day_of_week_wed\", \"y_yes\": 0.006301992288364963}, {\"index\": \"poutcome_failure\", \"y_yes\": 0.03179873267404453}, {\"index\": \"poutcome_nonexistent\", \"y_yes\": -0.1935068455205609}, {\"index\": \"poutcome_success\", \"y_yes\": 0.31626938381981456}, {\"index\": \"y_no\", \"y_yes\": -0.9999999999999996}, {\"index\": \"y_yes\", \"y_yes\": 1.0}, {\"index\": \"campaign\", \"y_yes\": -0.06635741475467098}, {\"index\": \"pdays\", \"y_yes\": -0.3249144776166296}, {\"index\": \"previous\", \"y_yes\": 0.23018100321659038}, {\"index\": \"emp.var.rate\", \"y_yes\": -0.29833442615937705}, {\"index\": \"cons.price.idx\", \"y_yes\": -0.13621121281923193}, {\"index\": \"cons.conf.idx\", \"y_yes\": 0.05487794605318586}, {\"index\": \"euribor3m\", \"y_yes\": -0.3077714039407209}, {\"index\": \"nr.employed\", \"y_yes\": -0.35467829592142014}]}}, {\"mode\": \"vega-lite\"});\n",
       "</script>"
      ],
      "text/plain": [
       "alt.Chart(...)"
      ]
     },
     "execution_count": 11,
     "metadata": {},
     "output_type": "execute_result"
    }
   ],
   "source": [
    "alt.Chart(corY).mark_bar().encode(\n",
    "    x = 'index:N',\n",
    "    y = 'y_yes:Q',\n",
    "    color= alt.condition(\n",
    "        alt.datum.y_yes > 0, \n",
    "        alt.value(\"steelblue\"),\n",
    "        alt.value(\"red\"))\n",
    ").properties(\n",
    "    width=1000,\n",
    "    height= 500\n",
    ")"
   ]
  },
  {
   "cell_type": "code",
   "execution_count": 12,
   "id": "mexican-tomorrow",
   "metadata": {},
   "outputs": [
    {
     "data": {
      "text/html": [
       "\n",
       "<div id=\"altair-viz-94d0447d441b40ccaee879232ab8b402\"></div>\n",
       "<script type=\"text/javascript\">\n",
       "  (function(spec, embedOpt){\n",
       "    let outputDiv = document.currentScript.previousElementSibling;\n",
       "    if (outputDiv.id !== \"altair-viz-94d0447d441b40ccaee879232ab8b402\") {\n",
       "      outputDiv = document.getElementById(\"altair-viz-94d0447d441b40ccaee879232ab8b402\");\n",
       "    }\n",
       "    const paths = {\n",
       "      \"vega\": \"https://cdn.jsdelivr.net/npm//vega@5?noext\",\n",
       "      \"vega-lib\": \"https://cdn.jsdelivr.net/npm//vega-lib?noext\",\n",
       "      \"vega-lite\": \"https://cdn.jsdelivr.net/npm//vega-lite@4.8.1?noext\",\n",
       "      \"vega-embed\": \"https://cdn.jsdelivr.net/npm//vega-embed@6?noext\",\n",
       "    };\n",
       "\n",
       "    function loadScript(lib) {\n",
       "      return new Promise(function(resolve, reject) {\n",
       "        var s = document.createElement('script');\n",
       "        s.src = paths[lib];\n",
       "        s.async = true;\n",
       "        s.onload = () => resolve(paths[lib]);\n",
       "        s.onerror = () => reject(`Error loading script: ${paths[lib]}`);\n",
       "        document.getElementsByTagName(\"head\")[0].appendChild(s);\n",
       "      });\n",
       "    }\n",
       "\n",
       "    function showError(err) {\n",
       "      outputDiv.innerHTML = `<div class=\"error\" style=\"color:red;\">${err}</div>`;\n",
       "      throw err;\n",
       "    }\n",
       "\n",
       "    function displayChart(vegaEmbed) {\n",
       "      vegaEmbed(outputDiv, spec, embedOpt)\n",
       "        .catch(err => showError(`Javascript Error: ${err.message}<br>This usually means there's a typo in your chart specification. See the javascript console for the full traceback.`));\n",
       "    }\n",
       "\n",
       "    if(typeof define === \"function\" && define.amd) {\n",
       "      requirejs.config({paths});\n",
       "      require([\"vega-embed\"], displayChart, err => showError(`Error loading script: ${err.message}`));\n",
       "    } else if (typeof vegaEmbed === \"function\") {\n",
       "      displayChart(vegaEmbed);\n",
       "    } else {\n",
       "      loadScript(\"vega\")\n",
       "        .then(() => loadScript(\"vega-lite\"))\n",
       "        .then(() => loadScript(\"vega-embed\"))\n",
       "        .catch(showError)\n",
       "        .then(() => displayChart(vegaEmbed));\n",
       "    }\n",
       "  })({\"config\": {\"view\": {\"continuousWidth\": 400, \"continuousHeight\": 300}}, \"data\": {\"name\": \"data-01b40300dba55efb6d2139b3aed2d0fd\"}, \"mark\": \"bar\", \"encoding\": {\"x\": {\"type\": \"nominal\", \"field\": \"job\"}, \"y\": {\"type\": \"quantitative\", \"field\": \"yes\"}}, \"height\": 250, \"width\": 500, \"$schema\": \"https://vega.github.io/schema/vega-lite/v4.8.1.json\", \"datasets\": {\"data-01b40300dba55efb6d2139b3aed2d0fd\": [{\"job\": \"admin.\", \"no\": 0.8702744194972174, \"yes\": 0.12972558050278257}, {\"job\": \"blue-collar\", \"no\": 0.931056840285282, \"yes\": 0.06894315971471796}, {\"job\": \"entrepreneur\", \"no\": 0.9148351648351648, \"yes\": 0.08516483516483517}, {\"job\": \"housemaid\", \"no\": 0.9, \"yes\": 0.1}, {\"job\": \"management\", \"no\": 0.8878248974008208, \"yes\": 0.1121751025991792}, {\"job\": \"retired\", \"no\": 0.7476744186046511, \"yes\": 0.25232558139534883}, {\"job\": \"self-employed\", \"no\": 0.8951442646023927, \"yes\": 0.10485573539760731}, {\"job\": \"services\", \"no\": 0.9186192995716805, \"yes\": 0.08138070042831948}, {\"job\": \"student\", \"no\": 0.6857142857142857, \"yes\": 0.3142857142857143}, {\"job\": \"technician\", \"no\": 0.8917395817885214, \"yes\": 0.10826041821147857}, {\"job\": \"unemployed\", \"no\": 0.8579881656804734, \"yes\": 0.14201183431952663}, {\"job\": \"unknown\", \"no\": 0.8878787878787879, \"yes\": 0.11212121212121212}]}}, {\"mode\": \"vega-lite\"});\n",
       "</script>"
      ],
      "text/plain": [
       "alt.Chart(...)"
      ]
     },
     "execution_count": 12,
     "metadata": {},
     "output_type": "execute_result"
    }
   ],
   "source": [
    "alt.Chart(job_percent).mark_bar().encode(\n",
    "    x = 'job:N',\n",
    "    y = 'yes:Q',\n",
    ").properties(\n",
    "    width=500,\n",
    "    height= 250\n",
    ")"
   ]
  },
  {
   "cell_type": "code",
   "execution_count": 1,
   "id": "following-length",
   "metadata": {},
   "outputs": [
    {
     "ename": "NameError",
     "evalue": "name 'alt' is not defined",
     "output_type": "error",
     "traceback": [
      "\u001b[1;31m---------------------------------------------------------------------------\u001b[0m",
      "\u001b[1;31mNameError\u001b[0m                                 Traceback (most recent call last)",
      "\u001b[1;32m<ipython-input-1-f676c4cb3af1>\u001b[0m in \u001b[0;36m<module>\u001b[1;34m\u001b[0m\n\u001b[1;32m----> 1\u001b[1;33m alt.Chart(age_percent).mark_bar().encode(\n\u001b[0m\u001b[0;32m      2\u001b[0m     \u001b[0mx\u001b[0m \u001b[1;33m=\u001b[0m \u001b[1;34m'age:N'\u001b[0m\u001b[1;33m,\u001b[0m\u001b[1;33m\u001b[0m\u001b[1;33m\u001b[0m\u001b[0m\n\u001b[0;32m      3\u001b[0m     \u001b[0my\u001b[0m \u001b[1;33m=\u001b[0m \u001b[1;34m'yes:Q'\u001b[0m\u001b[1;33m,\u001b[0m\u001b[1;33m\u001b[0m\u001b[1;33m\u001b[0m\u001b[0m\n\u001b[0;32m      4\u001b[0m \u001b[1;33m)\u001b[0m\u001b[1;33m.\u001b[0m\u001b[0mproperties\u001b[0m\u001b[1;33m(\u001b[0m\u001b[1;33m\u001b[0m\u001b[1;33m\u001b[0m\u001b[0m\n\u001b[0;32m      5\u001b[0m     \u001b[0mwidth\u001b[0m\u001b[1;33m=\u001b[0m\u001b[1;36m500\u001b[0m\u001b[1;33m,\u001b[0m\u001b[1;33m\u001b[0m\u001b[1;33m\u001b[0m\u001b[0m\n",
      "\u001b[1;31mNameError\u001b[0m: name 'alt' is not defined"
     ]
    }
   ],
   "source": [
    "alt.Chart(age_percent).mark_bar().encode(\n",
    "    x = 'age:N',\n",
    "    y = 'yes:Q',\n",
    ").properties(\n",
    "    width=500,\n",
    "    height= 250\n",
    ")"
   ]
  }
 ],
 "metadata": {
  "kernelspec": {
   "display_name": "Python 3",
   "language": "python",
   "name": "python3"
  },
  "language_info": {
   "codemirror_mode": {
    "name": "ipython",
    "version": 3
   },
   "file_extension": ".py",
   "mimetype": "text/x-python",
   "name": "python",
   "nbconvert_exporter": "python",
   "pygments_lexer": "ipython3",
   "version": "3.8.7"
  }
 },
 "nbformat": 4,
 "nbformat_minor": 5
}
