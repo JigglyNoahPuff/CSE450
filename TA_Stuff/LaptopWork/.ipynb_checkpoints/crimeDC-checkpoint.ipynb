{
 "cells": [
  {
   "cell_type": "code",
   "execution_count": 1,
   "metadata": {},
   "outputs": [],
   "source": [
    "import pandas as pd\n",
    "import altair as alt"
   ]
  },
  {
   "cell_type": "code",
   "execution_count": 76,
   "metadata": {
    "collapsed": true,
    "jupyter": {
     "outputs_hidden": true
    }
   },
   "outputs": [
    {
     "data": {
      "text/html": [
       "<div>\n",
       "<style scoped>\n",
       "    .dataframe tbody tr th:only-of-type {\n",
       "        vertical-align: middle;\n",
       "    }\n",
       "\n",
       "    .dataframe tbody tr th {\n",
       "        vertical-align: top;\n",
       "    }\n",
       "\n",
       "    .dataframe thead th {\n",
       "        text-align: right;\n",
       "    }\n",
       "</style>\n",
       "<table border=\"1\" class=\"dataframe\">\n",
       "  <thead>\n",
       "    <tr style=\"text-align: right;\">\n",
       "      <th></th>\n",
       "      <th>neighborhood_cluster</th>\n",
       "      <th>longitude</th>\n",
       "      <th>year</th>\n",
       "      <th>report_dat</th>\n",
       "      <th>latitude</th>\n",
       "    </tr>\n",
       "  </thead>\n",
       "  <tbody>\n",
       "    <tr>\n",
       "      <th>0</th>\n",
       "      <td>cluster 8</td>\n",
       "      <td>-77.020913</td>\n",
       "      <td>2017</td>\n",
       "      <td>2017-04-29T15:19:02.000Z</td>\n",
       "      <td>38.902518</td>\n",
       "    </tr>\n",
       "    <tr>\n",
       "      <th>1</th>\n",
       "      <td>cluster 31</td>\n",
       "      <td>-76.919601</td>\n",
       "      <td>2017</td>\n",
       "      <td>2017-04-29T16:11:44.000Z</td>\n",
       "      <td>38.890943</td>\n",
       "    </tr>\n",
       "    <tr>\n",
       "      <th>2</th>\n",
       "      <td>cluster 39</td>\n",
       "      <td>-77.003927</td>\n",
       "      <td>2017</td>\n",
       "      <td>2017-04-29T18:17:15.000Z</td>\n",
       "      <td>38.822840</td>\n",
       "    </tr>\n",
       "    <tr>\n",
       "      <th>3</th>\n",
       "      <td>cluster 8</td>\n",
       "      <td>-77.024995</td>\n",
       "      <td>2017</td>\n",
       "      <td>2017-04-29T17:58:13.000Z</td>\n",
       "      <td>38.905643</td>\n",
       "    </tr>\n",
       "    <tr>\n",
       "      <th>4</th>\n",
       "      <td>cluster 4</td>\n",
       "      <td>-77.070987</td>\n",
       "      <td>2017</td>\n",
       "      <td>2017-05-04T01:30:36.000Z</td>\n",
       "      <td>38.907687</td>\n",
       "    </tr>\n",
       "  </tbody>\n",
       "</table>\n",
       "</div>"
      ],
      "text/plain": [
       "  neighborhood_cluster  longitude  year                report_dat   latitude\n",
       "0            cluster 8 -77.020913  2017  2017-04-29T15:19:02.000Z  38.902518\n",
       "1           cluster 31 -76.919601  2017  2017-04-29T16:11:44.000Z  38.890943\n",
       "2           cluster 39 -77.003927  2017  2017-04-29T18:17:15.000Z  38.822840\n",
       "3            cluster 8 -77.024995  2017  2017-04-29T17:58:13.000Z  38.905643\n",
       "4            cluster 4 -77.070987  2017  2017-05-04T01:30:36.000Z  38.907687"
      ]
     },
     "execution_count": 76,
     "metadata": {},
     "output_type": "execute_result"
    }
   ],
   "source": [
    "crime = pd.read_csv('./dc-crimes-search-results.csv')\n",
    "crime.drop(labels = ['CENSUS_TRACT', 'offensegroup',\n",
    "       'offense-text', 'SHIFT', 'YBLOCK', 'DISTRICT', 'WARD',\n",
    "       'offensekey', 'BID', 'sector', 'PSA', 'ucr-rank', 'BLOCK_GROUP',\n",
    "       'VOTING_PRECINCT', 'XBLOCK', 'BLOCK', 'CCN',\n",
    "       'OCTO_RECORD_ID', 'ANC', 'METHOD', 'OFFENSE', 'START_DATE', 'END_DATE', 'location'], axis=1, inplace=True)\n",
    "crime.columns = crime.columns.str.lower()\n",
    "crime.head()"
   ]
  },
  {
   "cell_type": "code",
   "execution_count": 41,
   "metadata": {},
   "outputs": [
    {
     "name": "stdout",
     "output_type": "stream",
     "text": [
      "Longitude Range:  0.20362184850949916\n",
      "Latitude Range:  0.17946692868199676\n"
     ]
    }
   ],
   "source": [
    "print('Longitude Range: ', crime.longitude.max() - crime.longitude.min())\n",
    "print('Latitude Range: ', crime.latitude.max() - crime.latitude.min())"
   ]
  },
  {
   "cell_type": "code",
   "execution_count": 53,
   "metadata": {},
   "outputs": [
    {
     "data": {
      "text/plain": [
       "0.026085008503599738"
      ]
     },
     "execution_count": 53,
     "metadata": {},
     "output_type": "execute_result"
    }
   ],
   "source": [
    "crime[crime['neighborhood_cluster'] == 'cluster 8'].longitude.max() - crime[crime['neighborhood_cluster'] == 'cluster 8'].longitude.min()"
   ]
  },
  {
   "cell_type": "code",
   "execution_count": 73,
   "metadata": {
    "collapsed": true,
    "jupyter": {
     "outputs_hidden": true
    }
   },
   "outputs": [
    {
     "data": {
      "text/plain": [
       "cluster 1      2762\n",
       "cluster 10      633\n",
       "cluster 11     2409\n",
       "cluster 12      773\n",
       "cluster 13      537\n",
       "cluster 14     1156\n",
       "cluster 15     1483\n",
       "cluster 16      318\n",
       "cluster 17     2744\n",
       "cluster 18     4074\n",
       "cluster 19     1221\n",
       "cluster 2      8709\n",
       "cluster 20     1057\n",
       "cluster 21     3329\n",
       "cluster 22     4180\n",
       "cluster 23     3809\n",
       "cluster 24     1264\n",
       "cluster 25     7211\n",
       "cluster 26     5945\n",
       "cluster 27     1158\n",
       "cluster 28     1084\n",
       "cluster 29      144\n",
       "cluster 3      4341\n",
       "cluster 30     1321\n",
       "cluster 31     2045\n",
       "cluster 32     2497\n",
       "cluster 33     1810\n",
       "cluster 34     2060\n",
       "cluster 35     1046\n",
       "cluster 36      824\n",
       "cluster 37      789\n",
       "cluster 38     1288\n",
       "cluster 39     2989\n",
       "cluster 4      5325\n",
       "cluster 40        2\n",
       "cluster 43        6\n",
       "cluster 44        3\n",
       "cluster 45        9\n",
       "cluster 46        1\n",
       "cluster 5      2931\n",
       "cluster 6      7331\n",
       "cluster 7      3501\n",
       "cluster 8     11405\n",
       "cluster 9      2181\n",
       "Name: neighborhood_cluster, dtype: int64"
      ]
     },
     "execution_count": 73,
     "metadata": {},
     "output_type": "execute_result"
    }
   ],
   "source": [
    "crime.neighborhood_cluster.value_counts().sort_index()"
   ]
  },
  {
   "cell_type": "code",
   "execution_count": 80,
   "metadata": {},
   "outputs": [],
   "source": [
    "crime['nbrhd_long_max'] = crime.neighborhood_cluster.map({\n",
    "    'cluster 1': str(crime[crime['neighborhood_cluster'] == 'cluster 1'].longitude.max()),\n",
    "    'cluster 2': str(crime[crime['neighborhood_cluster'] == 'cluster 2'].longitude.max()),\n",
    "    'cluster 3': str(crime[crime['neighborhood_cluster'] == 'cluster 3'].longitude.max()),\n",
    "    'cluster 4': str(crime[crime['neighborhood_cluster'] == 'cluster 4'].longitude.max()),\n",
    "    'cluster 5': str(crime[crime['neighborhood_cluster'] == 'cluster 5'].longitude.max()),\n",
    "    'cluster 6': str(crime[crime['neighborhood_cluster'] == 'cluster 6'].longitude.max()),\n",
    "    'cluster 7': str(crime[crime['neighborhood_cluster'] == 'cluster 7'].longitude.max()),\n",
    "    'cluster 8': str(crime[crime['neighborhood_cluster'] == 'cluster 8'].longitude.max()),\n",
    "    'cluster 9': str(crime[crime['neighborhood_cluster'] == 'cluster 9'].longitude.max()),\n",
    "    'cluster 10': str(crime[crime['neighborhood_cluster'] == 'cluster 10'].longitude.max()),\n",
    "    'cluster 11': str(crime[crime['neighborhood_cluster'] == 'cluster 11'].longitude.max()),\n",
    "    'cluster 12': str(crime[crime['neighborhood_cluster'] == 'cluster 12'].longitude.max()),\n",
    "    'cluster 13': str(crime[crime['neighborhood_cluster'] == 'cluster 13'].longitude.max()),\n",
    "    'cluster 14': str(crime[crime['neighborhood_cluster'] == 'cluster 14'].longitude.max()),\n",
    "    'cluster 15': str(crime[crime['neighborhood_cluster'] == 'cluster 15'].longitude.max()),\n",
    "    'cluster 16': str(crime[crime['neighborhood_cluster'] == 'cluster 16'].longitude.max()),\n",
    "    'cluster 17': str(crime[crime['neighborhood_cluster'] == 'cluster 17'].longitude.max()),\n",
    "    'cluster 18': str(crime[crime['neighborhood_cluster'] == 'cluster 18'].longitude.max()),\n",
    "    'cluster 19': str(crime[crime['neighborhood_cluster'] == 'cluster 19'].longitude.max()),\n",
    "    'cluster 20': str(crime[crime['neighborhood_cluster'] == 'cluster 20'].longitude.max()),\n",
    "    'cluster 21': str(crime[crime['neighborhood_cluster'] == 'cluster 21'].longitude.max()),\n",
    "    'cluster 22': str(crime[crime['neighborhood_cluster'] == 'cluster 22'].longitude.max()),\n",
    "    'cluster 23': str(crime[crime['neighborhood_cluster'] == 'cluster 23'].longitude.max()),\n",
    "    'cluster 24': str(crime[crime['neighborhood_cluster'] == 'cluster 24'].longitude.max()),\n",
    "    'cluster 25': str(crime[crime['neighborhood_cluster'] == 'cluster 25'].longitude.max()),\n",
    "    'cluster 26': str(crime[crime['neighborhood_cluster'] == 'cluster 26'].longitude.max()),\n",
    "    'cluster 27': str(crime[crime['neighborhood_cluster'] == 'cluster 27'].longitude.max()),\n",
    "    'cluster 28': str(crime[crime['neighborhood_cluster'] == 'cluster 28'].longitude.max()),\n",
    "    'cluster 29': str(crime[crime['neighborhood_cluster'] == 'cluster 29'].longitude.max()),\n",
    "    'cluster 30': str(crime[crime['neighborhood_cluster'] == 'cluster 30'].longitude.max()),\n",
    "    'cluster 31': str(crime[crime['neighborhood_cluster'] == 'cluster 31'].longitude.max()),\n",
    "    'cluster 32': str(crime[crime['neighborhood_cluster'] == 'cluster 32'].longitude.max()),\n",
    "    'cluster 33': str(crime[crime['neighborhood_cluster'] == 'cluster 33'].longitude.max()),\n",
    "    'cluster 34': str(crime[crime['neighborhood_cluster'] == 'cluster 34'].longitude.max()),\n",
    "    'cluster 35': str(crime[crime['neighborhood_cluster'] == 'cluster 35'].longitude.max()),\n",
    "    'cluster 36': str(crime[crime['neighborhood_cluster'] == 'cluster 36'].longitude.max()),\n",
    "    'cluster 37': str(crime[crime['neighborhood_cluster'] == 'cluster 37'].longitude.max()),\n",
    "    'cluster 38': str(crime[crime['neighborhood_cluster'] == 'cluster 38'].longitude.max()),\n",
    "    'cluster 39': str(crime[crime['neighborhood_cluster'] == 'cluster 39'].longitude.max()),\n",
    "    'cluster 40': str(crime[crime['neighborhood_cluster'] == 'cluster 40'].longitude.max()),\n",
    "    'cluster 41': str(crime[crime['neighborhood_cluster'] == 'cluster 41'].longitude.max()),\n",
    "    'cluster 42': str(crime[crime['neighborhood_cluster'] == 'cluster 42'].longitude.max()),\n",
    "    'cluster 43': str(crime[crime['neighborhood_cluster'] == 'cluster 43'].longitude.max()),\n",
    "    'cluster 44': str(crime[crime['neighborhood_cluster'] == 'cluster 44'].longitude.max()),\n",
    "    'cluster 45': str(crime[crime['neighborhood_cluster'] == 'cluster 45'].longitude.max()),\n",
    "    'cluster 46': str(crime[crime['neighborhood_cluster'] == 'cluster 46'].longitude.max())\n",
    "    })"
   ]
  },
  {
   "cell_type": "code",
   "execution_count": 82,
   "metadata": {
    "collapsed": true,
    "jupyter": {
     "outputs_hidden": true
    }
   },
   "outputs": [
    {
     "data": {
      "text/plain": [
       "-77.0090530222517    11405\n",
       "-77.0183832511397     8709\n",
       "-77.0345349940577     7331\n",
       "-76.9699584725396     7211\n",
       "-76.9733053457753     5945\n",
       "-77.0520798897551     5325\n",
       "-77.0121544353128     4341\n",
       "-76.9660718914141     4180\n",
       "-77.0105333430878     4074\n",
       "-76.9651418990886     3809\n",
       "-77.0152530947395     3501\n",
       "-76.993541457155      3329\n",
       "-76.985384321337      2989\n",
       "-77.0394587328725     2931\n",
       "-77.0364882528428     2762\n",
       "-77.0062763625212     2744\n",
       "-76.9360424982945     2497\n",
       "-77.0708721059156     2409\n",
       "-77.0090687294835     2181\n",
       "-76.9401367294333     2060\n",
       "-76.9100205381868     2045\n",
       "-76.9133895913494     1810\n",
       "-77.0490108802666     1483\n",
       "-76.9329118627845     1321\n",
       "-76.9665809354291     1288\n",
       "-76.9498966270118     1264\n",
       "-76.9868018577782     1221\n",
       "-76.98728884386       1158\n",
       "-77.0674169745928     1156\n",
       "-76.9739826421821     1084\n",
       "-76.9708861038473     1057\n",
       "-76.9471584542451     1046\n",
       "-76.9627317374868      824\n",
       "-76.978029119176       789\n",
       "-77.0536137431344      773\n",
       "-77.0533830868274      633\n",
       "-77.0801889574357      537\n",
       "-77.0264518549481      318\n",
       "-76.9348088101594      144\n",
       "-77.0059246925677        9\n",
       "-76.9837919096291        6\n",
       "-77.0124143055986        3\n",
       "-77.0265894891404        2\n",
       "-77.0005416301748        1\n",
       "Name: nbrhd_long_max, dtype: int64"
      ]
     },
     "execution_count": 82,
     "metadata": {},
     "output_type": "execute_result"
    }
   ],
   "source": [
    "crime.nbrhd_long_max.value_counts()"
   ]
  }
 ],
 "metadata": {
  "kernelspec": {
   "display_name": "Python 3",
   "language": "python",
   "name": "python3"
  },
  "language_info": {
   "codemirror_mode": {
    "name": "ipython",
    "version": 3
   },
   "file_extension": ".py",
   "mimetype": "text/x-python",
   "name": "python",
   "nbconvert_exporter": "python",
   "pygments_lexer": "ipython3",
   "version": "3.9.0"
  }
 },
 "nbformat": 4,
 "nbformat_minor": 4
}
