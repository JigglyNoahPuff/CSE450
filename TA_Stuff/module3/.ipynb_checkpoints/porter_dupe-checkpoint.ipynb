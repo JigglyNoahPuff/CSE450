{
 "cells": [
  {
   "cell_type": "markdown",
   "metadata": {
    "id": "514idhniD18J"
   },
   "source": [
    "# Analysis of Data"
   ]
  },
  {
   "cell_type": "code",
   "execution_count": 1,
   "metadata": {
    "id": "mA0HPVmIBT4C"
   },
   "outputs": [],
   "source": [
    "import pandas as pd\n",
    "import altair as alt\n",
    "import matplotlib.pyplot as plt\n",
    "\n",
    "housing = pd.read_csv('https://raw.githubusercontent.com/byui-cse/cse450-course/master/data/housing.csv')\n",
    "#housing[\"price_per_sqft\"] = housing[\"price\"] / housing[\"sqft_living\"]"
   ]
  },
  {
   "cell_type": "code",
   "execution_count": 2,
   "metadata": {
    "colab": {
     "base_uri": "https://localhost:8080/",
     "height": 368
    },
    "id": "ALLMN63FPyEQ",
    "outputId": "804ca4fe-1f44-4e48-8501-4bd344c01024"
   },
   "outputs": [
    {
     "data": {
      "text/plain": [
       "DataTransformerRegistry.enable('default')"
      ]
     },
     "execution_count": 2,
     "metadata": {},
     "output_type": "execute_result"
    }
   ],
   "source": [
    "alt.data_transformers.disable_max_rows()"
   ]
  },
  {
   "cell_type": "markdown",
   "metadata": {
    "id": "JDVMuox--8kc"
   },
   "source": [
    "import seaborn as sns\n",
    "import matplotlib.pyplot as plt\n",
    "\n",
    "def plot_heat(df):\n",
    "  plt.figure(figsize=(30, 10)) #change figure size\n",
    "  sns.heatmap(df.drop([\"id\"], axis = 1).corr(), #data parameter/arguement\n",
    "            annot = True, # Adds the Correlation value to each square\n",
    "            fmt = '.1g', #reduce decimal places\n",
    "            cmap = \"coolwarm\", #change the color scheme\n",
    "            square = True,\n",
    "  )# Model"
   ]
  },
  {
   "cell_type": "code",
   "execution_count": 3,
   "metadata": {
    "id": "PDFQsv2o4CKY"
   },
   "outputs": [],
   "source": [
    "import xgboost as xgb\n",
    "#from sklearn.model_selection import train_test_split, RandomizedSearchCV, cross_val_score\n",
    "from sklearn.model_selection import train_test_split, cross_val_score\n",
    "from sklearn.preprocessing import MinMaxScaler\n",
    "import numpy as np\n",
    "from xgboost import XGBRegressor\n",
    "from sklearn.metrics import mean_squared_error\n",
    "#from datetime import datetime\n",
    "\n",
    "def create_model(df, show_heat=False):\n",
    "    if show_heat:\n",
    "        plot_heat(df)\n",
    "    df[\"lot_minus_living\"] = df[\"sqft_lot\"] - df[\"sqft_living\"]\n",
    "    df[\"year_sold\"] = df.date.str[:4]\n",
    "    df[\"month_sold\"] = df.date.str[4:6]\n",
    "    df[\"ratio_to_neighbors\"] = df[\"sqft_living\"] / df[\"sqft_living15\"]\n",
    "    bins = [0.0,1.0,2.0,3.0,4.0,5.0,6.0,7.0]\n",
    "    labels = [1,2,3,4,5,6,7]\n",
    "    df[\"bin\"] = pd.cut(df['bathrooms'], bins, labels=labels)\n",
    "    df = df[df['price'] < 2000000]\n",
    "    df[\"yr_renovated\"] = np.where(df[\"yr_renovated\"] == 0, df[\"yr_built\"], df[\"yr_renovated\"])\n",
    "    d = df.drop([\"id\", \"date\"], axis=1)\n",
    "    d['zipcode'] = d.zipcode.astype(\"str\")\n",
    "    d = pd.get_dummies(d)\n",
    "    scaler = MinMaxScaler()\n",
    "    d = pd.DataFrame(scaler.fit_transform(d))\n",
    "    mapper = {0: \"price\"}\n",
    "    d.rename(mapper=mapper, axis=1, inplace=True)\n",
    "    X = d.drop([\"price\"], axis=1)\n",
    "    y = df.price\n",
    "    X_test, X_train, y_test, y_train = train_test_split(X, y, test_size=0.3, random_state=42)\n",
    "    model = XGBRegressor(objective=\"reg:squarederror\", subsample=0.3, random_state=42)\n",
    "    model.fit(X_train, y_train)\n",
    "    score = model.score(X_train, y_train)\n",
    "    # print(\"Training score:\", score)\n",
    "    cv_score = cross_val_score(model, X_train, y_train, cv=10)\n",
    "    # print(\"CV mean Score:\", cv_score.mean())\n",
    "    predictions = model.predict(X_test)\n",
    "    result = mean_squared_error(y_test, predictions, squared=True) ** 0.5\n",
    "    # print(\"Result: \", result)\n",
    "    return result, model"
   ]
  },
  {
   "cell_type": "code",
   "execution_count": 20,
   "metadata": {
    "id": "ahZEnakQu9M-"
   },
   "outputs": [
    {
     "ename": "SyntaxError",
     "evalue": "invalid syntax (<ipython-input-20-89ab30abb3b8>, line 4)",
     "output_type": "error",
     "traceback": [
      "\u001b[1;36m  File \u001b[1;32m\"<ipython-input-20-89ab30abb3b8>\"\u001b[1;36m, line \u001b[1;32m4\u001b[0m\n\u001b[1;33m    while end < :\u001b[0m\n\u001b[1;37m                ^\u001b[0m\n\u001b[1;31mSyntaxError\u001b[0m\u001b[1;31m:\u001b[0m invalid syntax\n"
     ]
    }
   ],
   "source": [
    "def create_models(df, bins=10, start=200000, jump=100000):\n",
    "    i = 0\n",
    "    end = start + jump\n",
    "    ranges = {}\n",
    "    while end < #real_end:\n",
    "        temp = df[df['price'] < end and df['price'] >= start]\n",
    "        temp = temp[temp['price'] >= start]\n",
    "        score, model = create_model(temp)\n",
    "        ++i\n",
    "\n",
    "        ranges[i] = {\"Range\": (start, end),\n",
    "                         \"Percent Price Difference\": f\"{round((score / end) * 100, 2)}%\",\n",
    "                         \"Uncertainty\": f\"${round(score,2)}\",\n",
    "                         \"model\": model}\n",
    "        start = end\n",
    "    return ranges"
   ]
  },
  {
   "cell_type": "code",
   "execution_count": 24,
   "metadata": {},
   "outputs": [
    {
     "name": "stderr",
     "output_type": "stream",
     "text": [
      "<ipython-input-24-c1dc8c6913cb>:4: UserWarning: Boolean Series key will be reindexed to match DataFrame index.\n",
      "  temp = df[df['price'] < end][df['price'] >= start]\n"
     ]
    },
    {
     "data": {
      "text/html": [
       "<div>\n",
       "<style scoped>\n",
       "    .dataframe tbody tr th:only-of-type {\n",
       "        vertical-align: middle;\n",
       "    }\n",
       "\n",
       "    .dataframe tbody tr th {\n",
       "        vertical-align: top;\n",
       "    }\n",
       "\n",
       "    .dataframe thead th {\n",
       "        text-align: right;\n",
       "    }\n",
       "</style>\n",
       "<table border=\"1\" class=\"dataframe\">\n",
       "  <thead>\n",
       "    <tr style=\"text-align: right;\">\n",
       "      <th></th>\n",
       "      <th>id</th>\n",
       "      <th>date</th>\n",
       "      <th>price</th>\n",
       "      <th>bedrooms</th>\n",
       "      <th>bathrooms</th>\n",
       "      <th>sqft_living</th>\n",
       "      <th>sqft_lot</th>\n",
       "      <th>floors</th>\n",
       "      <th>waterfront</th>\n",
       "      <th>view</th>\n",
       "      <th>...</th>\n",
       "      <th>grade</th>\n",
       "      <th>sqft_above</th>\n",
       "      <th>sqft_basement</th>\n",
       "      <th>yr_built</th>\n",
       "      <th>yr_renovated</th>\n",
       "      <th>zipcode</th>\n",
       "      <th>lat</th>\n",
       "      <th>long</th>\n",
       "      <th>sqft_living15</th>\n",
       "      <th>sqft_lot15</th>\n",
       "    </tr>\n",
       "  </thead>\n",
       "  <tbody>\n",
       "    <tr>\n",
       "      <th>0</th>\n",
       "      <td>7129300520</td>\n",
       "      <td>20141013T000000</td>\n",
       "      <td>221900.0</td>\n",
       "      <td>3</td>\n",
       "      <td>1.00</td>\n",
       "      <td>1180</td>\n",
       "      <td>5650</td>\n",
       "      <td>1.0</td>\n",
       "      <td>0</td>\n",
       "      <td>0</td>\n",
       "      <td>...</td>\n",
       "      <td>7</td>\n",
       "      <td>1180</td>\n",
       "      <td>0</td>\n",
       "      <td>1955</td>\n",
       "      <td>0</td>\n",
       "      <td>98178</td>\n",
       "      <td>47.5112</td>\n",
       "      <td>-122.257</td>\n",
       "      <td>1340</td>\n",
       "      <td>5650</td>\n",
       "    </tr>\n",
       "    <tr>\n",
       "      <th>1</th>\n",
       "      <td>6414100192</td>\n",
       "      <td>20141209T000000</td>\n",
       "      <td>538000.0</td>\n",
       "      <td>3</td>\n",
       "      <td>2.25</td>\n",
       "      <td>2570</td>\n",
       "      <td>7242</td>\n",
       "      <td>2.0</td>\n",
       "      <td>0</td>\n",
       "      <td>0</td>\n",
       "      <td>...</td>\n",
       "      <td>7</td>\n",
       "      <td>2170</td>\n",
       "      <td>400</td>\n",
       "      <td>1951</td>\n",
       "      <td>1991</td>\n",
       "      <td>98125</td>\n",
       "      <td>47.7210</td>\n",
       "      <td>-122.319</td>\n",
       "      <td>1690</td>\n",
       "      <td>7639</td>\n",
       "    </tr>\n",
       "    <tr>\n",
       "      <th>3</th>\n",
       "      <td>2487200875</td>\n",
       "      <td>20141209T000000</td>\n",
       "      <td>604000.0</td>\n",
       "      <td>4</td>\n",
       "      <td>3.00</td>\n",
       "      <td>1960</td>\n",
       "      <td>5000</td>\n",
       "      <td>1.0</td>\n",
       "      <td>0</td>\n",
       "      <td>0</td>\n",
       "      <td>...</td>\n",
       "      <td>7</td>\n",
       "      <td>1050</td>\n",
       "      <td>910</td>\n",
       "      <td>1965</td>\n",
       "      <td>0</td>\n",
       "      <td>98136</td>\n",
       "      <td>47.5208</td>\n",
       "      <td>-122.393</td>\n",
       "      <td>1360</td>\n",
       "      <td>5000</td>\n",
       "    </tr>\n",
       "    <tr>\n",
       "      <th>4</th>\n",
       "      <td>1954400510</td>\n",
       "      <td>20150218T000000</td>\n",
       "      <td>510000.0</td>\n",
       "      <td>3</td>\n",
       "      <td>2.00</td>\n",
       "      <td>1680</td>\n",
       "      <td>8080</td>\n",
       "      <td>1.0</td>\n",
       "      <td>0</td>\n",
       "      <td>0</td>\n",
       "      <td>...</td>\n",
       "      <td>8</td>\n",
       "      <td>1680</td>\n",
       "      <td>0</td>\n",
       "      <td>1987</td>\n",
       "      <td>0</td>\n",
       "      <td>98074</td>\n",
       "      <td>47.6168</td>\n",
       "      <td>-122.045</td>\n",
       "      <td>1800</td>\n",
       "      <td>7503</td>\n",
       "    </tr>\n",
       "    <tr>\n",
       "      <th>5</th>\n",
       "      <td>7237550310</td>\n",
       "      <td>20140512T000000</td>\n",
       "      <td>1225000.0</td>\n",
       "      <td>4</td>\n",
       "      <td>4.50</td>\n",
       "      <td>5420</td>\n",
       "      <td>101930</td>\n",
       "      <td>1.0</td>\n",
       "      <td>0</td>\n",
       "      <td>0</td>\n",
       "      <td>...</td>\n",
       "      <td>11</td>\n",
       "      <td>3890</td>\n",
       "      <td>1530</td>\n",
       "      <td>2001</td>\n",
       "      <td>0</td>\n",
       "      <td>98053</td>\n",
       "      <td>47.6561</td>\n",
       "      <td>-122.005</td>\n",
       "      <td>4760</td>\n",
       "      <td>101930</td>\n",
       "    </tr>\n",
       "  </tbody>\n",
       "</table>\n",
       "<p>5 rows × 21 columns</p>\n",
       "</div>"
      ],
      "text/plain": [
       "           id             date      price  bedrooms  bathrooms  sqft_living  \\\n",
       "0  7129300520  20141013T000000   221900.0         3       1.00         1180   \n",
       "1  6414100192  20141209T000000   538000.0         3       2.25         2570   \n",
       "3  2487200875  20141209T000000   604000.0         4       3.00         1960   \n",
       "4  1954400510  20150218T000000   510000.0         3       2.00         1680   \n",
       "5  7237550310  20140512T000000  1225000.0         4       4.50         5420   \n",
       "\n",
       "   sqft_lot  floors  waterfront  view  ...  grade  sqft_above  sqft_basement  \\\n",
       "0      5650     1.0           0     0  ...      7        1180              0   \n",
       "1      7242     2.0           0     0  ...      7        2170            400   \n",
       "3      5000     1.0           0     0  ...      7        1050            910   \n",
       "4      8080     1.0           0     0  ...      8        1680              0   \n",
       "5    101930     1.0           0     0  ...     11        3890           1530   \n",
       "\n",
       "   yr_built  yr_renovated  zipcode      lat     long  sqft_living15  \\\n",
       "0      1955             0    98178  47.5112 -122.257           1340   \n",
       "1      1951          1991    98125  47.7210 -122.319           1690   \n",
       "3      1965             0    98136  47.5208 -122.393           1360   \n",
       "4      1987             0    98074  47.6168 -122.045           1800   \n",
       "5      2001             0    98053  47.6561 -122.005           4760   \n",
       "\n",
       "   sqft_lot15  \n",
       "0        5650  \n",
       "1        7639  \n",
       "3        5000  \n",
       "4        7503  \n",
       "5      101930  \n",
       "\n",
       "[5 rows x 21 columns]"
      ]
     },
     "execution_count": 24,
     "metadata": {},
     "output_type": "execute_result"
    }
   ],
   "source": [
    "start=200000\n",
    "end=3000000\n",
    "df = pd.read_csv('https://raw.githubusercontent.com/byui-cse/cse450-course/master/data/housing.csv')\n",
    "temp = df[df['price'] < end][df['price'] >= start]\n",
    "temp.head()"
   ]
  },
  {
   "cell_type": "markdown",
   "metadata": {
    "id": "cFWXTsSz_2R2"
   },
   "source": [
    "# 8 Accurate Models for the Homes Under \\$1,600,000\n",
    "- NOTE: There are 8 models here, there are not more due to the limited number of homes in the database that are above \\$1,600,000"
   ]
  },
  {
   "cell_type": "code",
   "execution_count": 16,
   "metadata": {
    "id": "fW8Qf4uE7mf1"
   },
   "outputs": [
    {
     "name": "stdout",
     "output_type": "stream",
     "text": [
      "17602.913257767246\n",
      "18301.376175598078\n",
      "18215.503606214792\n",
      "18820.245850897252\n",
      "18801.809661418854\n",
      "20142.54378222041\n",
      "19526.144383838062\n",
      "19522.598764881328\n"
     ]
    }
   ],
   "source": [
    "data = create_models(housing, 5000, decrease_accuracy=1.5, bins=8)"
   ]
  },
  {
   "cell_type": "code",
   "execution_count": 17,
   "metadata": {
    "colab": {
     "base_uri": "https://localhost:8080/"
    },
    "id": "MOiaHm8xFdz-",
    "outputId": "f9548feb-2724-442d-9a57-e44c23cb2ba9"
   },
   "outputs": [
    {
     "name": "stdout",
     "output_type": "stream",
     "text": [
      "Model: 1\n",
      "Price Range: (200000, 250000)\n",
      "Percent Off: 7.04%\n",
      "Uncertainty: $17602.91 \n",
      "\n",
      "Model: 2\n",
      "Price Range: (250000, 300000)\n",
      "Percent Off: 6.1%\n",
      "Uncertainty: $18301.38 \n",
      "\n",
      "Model: 3\n",
      "Price Range: (300000, 350000)\n",
      "Percent Off: 5.2%\n",
      "Uncertainty: $18215.5 \n",
      "\n",
      "Model: 4\n",
      "Price Range: (350000, 400000)\n",
      "Percent Off: 4.71%\n",
      "Uncertainty: $18820.25 \n",
      "\n",
      "Model: 5\n",
      "Price Range: (400000, 450000)\n",
      "Percent Off: 4.18%\n",
      "Uncertainty: $18801.81 \n",
      "\n",
      "Model: 6\n",
      "Price Range: (450000, 500000)\n",
      "Percent Off: 4.03%\n",
      "Uncertainty: $20142.54 \n",
      "\n",
      "Model: 7\n",
      "Price Range: (500000, 550000)\n",
      "Percent Off: 3.55%\n",
      "Uncertainty: $19526.14 \n",
      "\n",
      "Model: 8\n",
      "Price Range: (550000, 600000)\n",
      "Percent Off: 3.25%\n",
      "Uncertainty: $19522.6 \n",
      "\n"
     ]
    }
   ],
   "source": [
    "for key,value in data.items():\n",
    "  print(\"Model:\", key)\n",
    "  print(\"Price Range:\", value['Range'])\n",
    "  print(\"Percent Off:\", value['Percent Price Difference'])\n",
    "  print(\"Uncertainty:\", value['Uncertainty'],'\\n')"
   ]
  },
  {
   "cell_type": "code",
   "execution_count": 7,
   "metadata": {
    "colab": {
     "base_uri": "https://localhost:8080/"
    },
    "id": "8CiHmDyNARdZ",
    "outputId": "46365a51-75ed-4e9f-9414-ad1828c77dd7"
   },
   "outputs": [
    {
     "name": "stdout",
     "output_type": "stream",
     "text": [
      "There are only 426 homes that are over $1,600,000. This is hardly enough to really do any good accurate model to predict the price of these homes.\n"
     ]
    }
   ],
   "source": [
    "print(\"There are only\", len(housing[housing['price'] > 1600000]), \"homes that are over $1,600,000. This is hardly enough to really do any good accurate model to predict the price of these homes.\")"
   ]
  }
 ],
 "metadata": {
  "colab": {
   "collapsed_sections": [],
   "name": "housing.ipynb",
   "provenance": []
  },
  "kernelspec": {
   "display_name": "Python 3",
   "language": "python",
   "name": "python3"
  },
  "language_info": {
   "codemirror_mode": {
    "name": "ipython",
    "version": 3
   },
   "file_extension": ".py",
   "mimetype": "text/x-python",
   "name": "python",
   "nbconvert_exporter": "python",
   "pygments_lexer": "ipython3",
   "version": "3.8.7"
  }
 },
 "nbformat": 4,
 "nbformat_minor": 4
}
