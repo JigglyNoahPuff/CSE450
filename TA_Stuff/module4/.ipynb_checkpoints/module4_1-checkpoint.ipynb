{
 "cells": [
  {
   "cell_type": "markdown",
   "id": "orange-madison",
   "metadata": {},
   "source": [
    "## Imports"
   ]
  },
  {
   "cell_type": "code",
   "execution_count": 18,
   "id": "overall-spring",
   "metadata": {},
   "outputs": [],
   "source": [
    "import matplotlib.pyplot as plt\n",
    "import numpy as np\n",
    "import pandas as pd\n",
    "import seaborn as sns\n",
    "\n",
    "import tensorflow as tf\n",
    "\n",
    "from tensorflow import keras\n",
    "from tensorflow.keras import layers\n",
    "from tensorflow.keras import regularizers\n",
    "from tensorflow.keras.layers.experimental import preprocessing\n",
    "\n",
    "from IPython import display\n",
    "\n",
    "import numpy as np\n",
    "\n",
    "import pathlib\n",
    "import shutil\n",
    "import tempfile"
   ]
  },
  {
   "cell_type": "markdown",
   "id": "exposed-editing",
   "metadata": {},
   "source": [
    "## Initialize DataFrame\n",
    "- Read data into \"bikes\" DataFrame.\n",
    "- Join target columns into one new column.\n",
    "- Drop columns that are not of interest\n",
    "- Display the head of the \"bikes\"."
   ]
  },
  {
   "cell_type": "code",
   "execution_count": 19,
   "id": "oriented-staff",
   "metadata": {},
   "outputs": [
    {
     "data": {
      "text/html": [
       "<div>\n",
       "<style scoped>\n",
       "    .dataframe tbody tr th:only-of-type {\n",
       "        vertical-align: middle;\n",
       "    }\n",
       "\n",
       "    .dataframe tbody tr th {\n",
       "        vertical-align: top;\n",
       "    }\n",
       "\n",
       "    .dataframe thead th {\n",
       "        text-align: right;\n",
       "    }\n",
       "</style>\n",
       "<table border=\"1\" class=\"dataframe\">\n",
       "  <thead>\n",
       "    <tr style=\"text-align: right;\">\n",
       "      <th></th>\n",
       "      <th>season</th>\n",
       "      <th>hr</th>\n",
       "      <th>holiday</th>\n",
       "      <th>workingday</th>\n",
       "      <th>weathersit</th>\n",
       "      <th>hum</th>\n",
       "      <th>windspeed</th>\n",
       "      <th>temp_c</th>\n",
       "      <th>total</th>\n",
       "      <th>month</th>\n",
       "      <th>day</th>\n",
       "      <th>year</th>\n",
       "      <th>week_of_month</th>\n",
       "    </tr>\n",
       "  </thead>\n",
       "  <tbody>\n",
       "    <tr>\n",
       "      <th>0</th>\n",
       "      <td>1</td>\n",
       "      <td>0</td>\n",
       "      <td>0</td>\n",
       "      <td>0</td>\n",
       "      <td>1</td>\n",
       "      <td>0.81</td>\n",
       "      <td>0</td>\n",
       "      <td>3.28</td>\n",
       "      <td>16</td>\n",
       "      <td>1</td>\n",
       "      <td>1</td>\n",
       "      <td>11</td>\n",
       "      <td>1</td>\n",
       "    </tr>\n",
       "    <tr>\n",
       "      <th>1</th>\n",
       "      <td>1</td>\n",
       "      <td>1</td>\n",
       "      <td>0</td>\n",
       "      <td>0</td>\n",
       "      <td>1</td>\n",
       "      <td>0.80</td>\n",
       "      <td>0</td>\n",
       "      <td>2.34</td>\n",
       "      <td>40</td>\n",
       "      <td>1</td>\n",
       "      <td>1</td>\n",
       "      <td>11</td>\n",
       "      <td>1</td>\n",
       "    </tr>\n",
       "    <tr>\n",
       "      <th>2</th>\n",
       "      <td>1</td>\n",
       "      <td>2</td>\n",
       "      <td>0</td>\n",
       "      <td>0</td>\n",
       "      <td>1</td>\n",
       "      <td>0.80</td>\n",
       "      <td>0</td>\n",
       "      <td>2.34</td>\n",
       "      <td>32</td>\n",
       "      <td>1</td>\n",
       "      <td>1</td>\n",
       "      <td>11</td>\n",
       "      <td>1</td>\n",
       "    </tr>\n",
       "    <tr>\n",
       "      <th>3</th>\n",
       "      <td>1</td>\n",
       "      <td>3</td>\n",
       "      <td>0</td>\n",
       "      <td>0</td>\n",
       "      <td>1</td>\n",
       "      <td>0.75</td>\n",
       "      <td>0</td>\n",
       "      <td>3.28</td>\n",
       "      <td>13</td>\n",
       "      <td>1</td>\n",
       "      <td>1</td>\n",
       "      <td>11</td>\n",
       "      <td>1</td>\n",
       "    </tr>\n",
       "    <tr>\n",
       "      <th>4</th>\n",
       "      <td>1</td>\n",
       "      <td>4</td>\n",
       "      <td>0</td>\n",
       "      <td>0</td>\n",
       "      <td>1</td>\n",
       "      <td>0.75</td>\n",
       "      <td>0</td>\n",
       "      <td>3.28</td>\n",
       "      <td>1</td>\n",
       "      <td>1</td>\n",
       "      <td>1</td>\n",
       "      <td>11</td>\n",
       "      <td>1</td>\n",
       "    </tr>\n",
       "    <tr>\n",
       "      <th>5</th>\n",
       "      <td>1</td>\n",
       "      <td>5</td>\n",
       "      <td>0</td>\n",
       "      <td>0</td>\n",
       "      <td>2</td>\n",
       "      <td>0.75</td>\n",
       "      <td>6</td>\n",
       "      <td>3.28</td>\n",
       "      <td>1</td>\n",
       "      <td>1</td>\n",
       "      <td>1</td>\n",
       "      <td>11</td>\n",
       "      <td>1</td>\n",
       "    </tr>\n",
       "    <tr>\n",
       "      <th>6</th>\n",
       "      <td>1</td>\n",
       "      <td>6</td>\n",
       "      <td>0</td>\n",
       "      <td>0</td>\n",
       "      <td>1</td>\n",
       "      <td>0.80</td>\n",
       "      <td>0</td>\n",
       "      <td>2.34</td>\n",
       "      <td>2</td>\n",
       "      <td>1</td>\n",
       "      <td>1</td>\n",
       "      <td>11</td>\n",
       "      <td>1</td>\n",
       "    </tr>\n",
       "    <tr>\n",
       "      <th>7</th>\n",
       "      <td>1</td>\n",
       "      <td>7</td>\n",
       "      <td>0</td>\n",
       "      <td>0</td>\n",
       "      <td>1</td>\n",
       "      <td>0.86</td>\n",
       "      <td>0</td>\n",
       "      <td>1.40</td>\n",
       "      <td>3</td>\n",
       "      <td>1</td>\n",
       "      <td>1</td>\n",
       "      <td>11</td>\n",
       "      <td>1</td>\n",
       "    </tr>\n",
       "    <tr>\n",
       "      <th>8</th>\n",
       "      <td>1</td>\n",
       "      <td>8</td>\n",
       "      <td>0</td>\n",
       "      <td>0</td>\n",
       "      <td>1</td>\n",
       "      <td>0.75</td>\n",
       "      <td>0</td>\n",
       "      <td>3.28</td>\n",
       "      <td>8</td>\n",
       "      <td>1</td>\n",
       "      <td>1</td>\n",
       "      <td>11</td>\n",
       "      <td>1</td>\n",
       "    </tr>\n",
       "    <tr>\n",
       "      <th>9</th>\n",
       "      <td>1</td>\n",
       "      <td>9</td>\n",
       "      <td>0</td>\n",
       "      <td>0</td>\n",
       "      <td>1</td>\n",
       "      <td>0.76</td>\n",
       "      <td>0</td>\n",
       "      <td>7.04</td>\n",
       "      <td>14</td>\n",
       "      <td>1</td>\n",
       "      <td>1</td>\n",
       "      <td>11</td>\n",
       "      <td>1</td>\n",
       "    </tr>\n",
       "    <tr>\n",
       "      <th>10</th>\n",
       "      <td>1</td>\n",
       "      <td>10</td>\n",
       "      <td>0</td>\n",
       "      <td>0</td>\n",
       "      <td>1</td>\n",
       "      <td>0.76</td>\n",
       "      <td>17</td>\n",
       "      <td>9.86</td>\n",
       "      <td>36</td>\n",
       "      <td>1</td>\n",
       "      <td>1</td>\n",
       "      <td>11</td>\n",
       "      <td>1</td>\n",
       "    </tr>\n",
       "    <tr>\n",
       "      <th>11</th>\n",
       "      <td>1</td>\n",
       "      <td>11</td>\n",
       "      <td>0</td>\n",
       "      <td>0</td>\n",
       "      <td>1</td>\n",
       "      <td>0.81</td>\n",
       "      <td>19</td>\n",
       "      <td>8.92</td>\n",
       "      <td>56</td>\n",
       "      <td>1</td>\n",
       "      <td>1</td>\n",
       "      <td>11</td>\n",
       "      <td>1</td>\n",
       "    </tr>\n",
       "    <tr>\n",
       "      <th>12</th>\n",
       "      <td>1</td>\n",
       "      <td>12</td>\n",
       "      <td>0</td>\n",
       "      <td>0</td>\n",
       "      <td>1</td>\n",
       "      <td>0.77</td>\n",
       "      <td>19</td>\n",
       "      <td>11.74</td>\n",
       "      <td>84</td>\n",
       "      <td>1</td>\n",
       "      <td>1</td>\n",
       "      <td>11</td>\n",
       "      <td>1</td>\n",
       "    </tr>\n",
       "    <tr>\n",
       "      <th>13</th>\n",
       "      <td>1</td>\n",
       "      <td>13</td>\n",
       "      <td>0</td>\n",
       "      <td>0</td>\n",
       "      <td>2</td>\n",
       "      <td>0.72</td>\n",
       "      <td>20</td>\n",
       "      <td>13.62</td>\n",
       "      <td>94</td>\n",
       "      <td>1</td>\n",
       "      <td>1</td>\n",
       "      <td>11</td>\n",
       "      <td>1</td>\n",
       "    </tr>\n",
       "    <tr>\n",
       "      <th>14</th>\n",
       "      <td>1</td>\n",
       "      <td>14</td>\n",
       "      <td>0</td>\n",
       "      <td>0</td>\n",
       "      <td>2</td>\n",
       "      <td>0.72</td>\n",
       "      <td>19</td>\n",
       "      <td>13.62</td>\n",
       "      <td>106</td>\n",
       "      <td>1</td>\n",
       "      <td>1</td>\n",
       "      <td>11</td>\n",
       "      <td>1</td>\n",
       "    </tr>\n",
       "    <tr>\n",
       "      <th>15</th>\n",
       "      <td>1</td>\n",
       "      <td>15</td>\n",
       "      <td>0</td>\n",
       "      <td>0</td>\n",
       "      <td>2</td>\n",
       "      <td>0.77</td>\n",
       "      <td>20</td>\n",
       "      <td>12.68</td>\n",
       "      <td>110</td>\n",
       "      <td>1</td>\n",
       "      <td>1</td>\n",
       "      <td>11</td>\n",
       "      <td>1</td>\n",
       "    </tr>\n",
       "    <tr>\n",
       "      <th>16</th>\n",
       "      <td>1</td>\n",
       "      <td>16</td>\n",
       "      <td>0</td>\n",
       "      <td>0</td>\n",
       "      <td>2</td>\n",
       "      <td>0.82</td>\n",
       "      <td>20</td>\n",
       "      <td>11.74</td>\n",
       "      <td>93</td>\n",
       "      <td>1</td>\n",
       "      <td>1</td>\n",
       "      <td>11</td>\n",
       "      <td>1</td>\n",
       "    </tr>\n",
       "    <tr>\n",
       "      <th>17</th>\n",
       "      <td>1</td>\n",
       "      <td>17</td>\n",
       "      <td>0</td>\n",
       "      <td>0</td>\n",
       "      <td>2</td>\n",
       "      <td>0.82</td>\n",
       "      <td>19</td>\n",
       "      <td>12.68</td>\n",
       "      <td>67</td>\n",
       "      <td>1</td>\n",
       "      <td>1</td>\n",
       "      <td>11</td>\n",
       "      <td>1</td>\n",
       "    </tr>\n",
       "    <tr>\n",
       "      <th>18</th>\n",
       "      <td>1</td>\n",
       "      <td>18</td>\n",
       "      <td>0</td>\n",
       "      <td>0</td>\n",
       "      <td>3</td>\n",
       "      <td>0.88</td>\n",
       "      <td>17</td>\n",
       "      <td>11.74</td>\n",
       "      <td>35</td>\n",
       "      <td>1</td>\n",
       "      <td>1</td>\n",
       "      <td>11</td>\n",
       "      <td>1</td>\n",
       "    </tr>\n",
       "    <tr>\n",
       "      <th>19</th>\n",
       "      <td>1</td>\n",
       "      <td>19</td>\n",
       "      <td>0</td>\n",
       "      <td>0</td>\n",
       "      <td>3</td>\n",
       "      <td>0.88</td>\n",
       "      <td>17</td>\n",
       "      <td>11.74</td>\n",
       "      <td>37</td>\n",
       "      <td>1</td>\n",
       "      <td>1</td>\n",
       "      <td>11</td>\n",
       "      <td>1</td>\n",
       "    </tr>\n",
       "    <tr>\n",
       "      <th>20</th>\n",
       "      <td>1</td>\n",
       "      <td>20</td>\n",
       "      <td>0</td>\n",
       "      <td>0</td>\n",
       "      <td>2</td>\n",
       "      <td>0.87</td>\n",
       "      <td>17</td>\n",
       "      <td>10.80</td>\n",
       "      <td>36</td>\n",
       "      <td>1</td>\n",
       "      <td>1</td>\n",
       "      <td>11</td>\n",
       "      <td>1</td>\n",
       "    </tr>\n",
       "    <tr>\n",
       "      <th>21</th>\n",
       "      <td>1</td>\n",
       "      <td>21</td>\n",
       "      <td>0</td>\n",
       "      <td>0</td>\n",
       "      <td>2</td>\n",
       "      <td>0.87</td>\n",
       "      <td>13</td>\n",
       "      <td>10.80</td>\n",
       "      <td>34</td>\n",
       "      <td>1</td>\n",
       "      <td>1</td>\n",
       "      <td>11</td>\n",
       "      <td>1</td>\n",
       "    </tr>\n",
       "    <tr>\n",
       "      <th>22</th>\n",
       "      <td>1</td>\n",
       "      <td>22</td>\n",
       "      <td>0</td>\n",
       "      <td>0</td>\n",
       "      <td>2</td>\n",
       "      <td>0.94</td>\n",
       "      <td>15</td>\n",
       "      <td>10.80</td>\n",
       "      <td>28</td>\n",
       "      <td>1</td>\n",
       "      <td>1</td>\n",
       "      <td>11</td>\n",
       "      <td>1</td>\n",
       "    </tr>\n",
       "    <tr>\n",
       "      <th>23</th>\n",
       "      <td>1</td>\n",
       "      <td>23</td>\n",
       "      <td>0</td>\n",
       "      <td>0</td>\n",
       "      <td>2</td>\n",
       "      <td>0.88</td>\n",
       "      <td>20</td>\n",
       "      <td>13.62</td>\n",
       "      <td>39</td>\n",
       "      <td>1</td>\n",
       "      <td>1</td>\n",
       "      <td>11</td>\n",
       "      <td>1</td>\n",
       "    </tr>\n",
       "    <tr>\n",
       "      <th>24</th>\n",
       "      <td>1</td>\n",
       "      <td>0</td>\n",
       "      <td>0</td>\n",
       "      <td>0</td>\n",
       "      <td>2</td>\n",
       "      <td>0.88</td>\n",
       "      <td>20</td>\n",
       "      <td>13.62</td>\n",
       "      <td>17</td>\n",
       "      <td>1</td>\n",
       "      <td>2</td>\n",
       "      <td>11</td>\n",
       "      <td>1</td>\n",
       "    </tr>\n",
       "  </tbody>\n",
       "</table>\n",
       "</div>"
      ],
      "text/plain": [
       "    season  hr  holiday  workingday  weathersit   hum  windspeed  temp_c  \\\n",
       "0        1   0        0           0           1  0.81          0    3.28   \n",
       "1        1   1        0           0           1  0.80          0    2.34   \n",
       "2        1   2        0           0           1  0.80          0    2.34   \n",
       "3        1   3        0           0           1  0.75          0    3.28   \n",
       "4        1   4        0           0           1  0.75          0    3.28   \n",
       "5        1   5        0           0           2  0.75          6    3.28   \n",
       "6        1   6        0           0           1  0.80          0    2.34   \n",
       "7        1   7        0           0           1  0.86          0    1.40   \n",
       "8        1   8        0           0           1  0.75          0    3.28   \n",
       "9        1   9        0           0           1  0.76          0    7.04   \n",
       "10       1  10        0           0           1  0.76         17    9.86   \n",
       "11       1  11        0           0           1  0.81         19    8.92   \n",
       "12       1  12        0           0           1  0.77         19   11.74   \n",
       "13       1  13        0           0           2  0.72         20   13.62   \n",
       "14       1  14        0           0           2  0.72         19   13.62   \n",
       "15       1  15        0           0           2  0.77         20   12.68   \n",
       "16       1  16        0           0           2  0.82         20   11.74   \n",
       "17       1  17        0           0           2  0.82         19   12.68   \n",
       "18       1  18        0           0           3  0.88         17   11.74   \n",
       "19       1  19        0           0           3  0.88         17   11.74   \n",
       "20       1  20        0           0           2  0.87         17   10.80   \n",
       "21       1  21        0           0           2  0.87         13   10.80   \n",
       "22       1  22        0           0           2  0.94         15   10.80   \n",
       "23       1  23        0           0           2  0.88         20   13.62   \n",
       "24       1   0        0           0           2  0.88         20   13.62   \n",
       "\n",
       "    total  month  day  year  week_of_month  \n",
       "0      16      1    1    11              1  \n",
       "1      40      1    1    11              1  \n",
       "2      32      1    1    11              1  \n",
       "3      13      1    1    11              1  \n",
       "4       1      1    1    11              1  \n",
       "5       1      1    1    11              1  \n",
       "6       2      1    1    11              1  \n",
       "7       3      1    1    11              1  \n",
       "8       8      1    1    11              1  \n",
       "9      14      1    1    11              1  \n",
       "10     36      1    1    11              1  \n",
       "11     56      1    1    11              1  \n",
       "12     84      1    1    11              1  \n",
       "13     94      1    1    11              1  \n",
       "14    106      1    1    11              1  \n",
       "15    110      1    1    11              1  \n",
       "16     93      1    1    11              1  \n",
       "17     67      1    1    11              1  \n",
       "18     35      1    1    11              1  \n",
       "19     37      1    1    11              1  \n",
       "20     36      1    1    11              1  \n",
       "21     34      1    1    11              1  \n",
       "22     28      1    1    11              1  \n",
       "23     39      1    1    11              1  \n",
       "24     17      1    2    11              1  "
      ]
     },
     "execution_count": 19,
     "metadata": {},
     "output_type": "execute_result"
    }
   ],
   "source": [
    "bikes = pd.read_csv('https://raw.githubusercontent.com/byui-cse/cse450-course/master/data/bikes.csv')\n",
    "bikes['total'] = bikes.casual + bikes.registered\n",
    "bikes['month'] = bikes.dteday.apply(lambda x: int(x[:x.find('/')]))\n",
    "bikes['day'] = bikes.dteday.apply(lambda x: int(x[x.find('/') + 1: x.find('/', x.find('/') + 1)]))\n",
    "bikes['year'] = bikes.dteday.apply(lambda x: int(x[x.find('/', x.find('/') + 1) + 1:]))\n",
    "bikes['week_of_month'] = bikes.day.apply(lambda x: (x // 7 + 1))\n",
    "bikes.drop(labels=['dteday', 'casual', 'registered', 'feels_like_c'], axis=1, inplace=True)\n",
    "bikes.head(25)"
   ]
  },
  {
   "cell_type": "markdown",
   "id": "perfect-torture",
   "metadata": {},
   "source": [
    "## Making Train and Test Datasets\n",
    "1. "
   ]
  },
  {
   "cell_type": "code",
   "execution_count": 20,
   "id": "enabling-nurse",
   "metadata": {},
   "outputs": [],
   "source": [
    "train_dataset = bikes.sample(frac=0.8, random_state=0)\n",
    "test_dataset = bikes.drop(train_dataset.index)\n",
    "\n",
    "train_features = train_dataset.copy()\n",
    "test_features = test_dataset.copy()\n",
    "\n",
    "train_labels = train_features.pop('total')\n",
    "test_labels = test_features.pop('total')"
   ]
  },
  {
   "cell_type": "code",
   "execution_count": 21,
   "id": "naval-haiti",
   "metadata": {},
   "outputs": [],
   "source": [
    "normalizer = preprocessing.Normalization()"
   ]
  },
  {
   "cell_type": "code",
   "execution_count": 22,
   "id": "finnish-dressing",
   "metadata": {},
   "outputs": [],
   "source": [
    "normalizer.adapt(np.array(train_features))"
   ]
  },
  {
   "cell_type": "code",
   "execution_count": 23,
   "id": "industrial-deadline",
   "metadata": {},
   "outputs": [],
   "source": [
    "def plot_loss(history):\n",
    "    plt.plot(history.history['loss'], label='loss')\n",
    "    plt.plot(history.history['val_loss'], label='val_loss')\n",
    "    plt.ylim([0, 100])\n",
    "    plt.xlabel('Epoch')\n",
    "    plt.ylabel('Error')\n",
    "    plt.legend()\n",
    "    plt.grid(True)"
   ]
  },
  {
   "cell_type": "code",
   "execution_count": 24,
   "id": "alive-murray",
   "metadata": {},
   "outputs": [],
   "source": [
    "def build_and_compile_model(norm):\n",
    "    model = keras.Sequential([\n",
    "        normalizer,\n",
    "        layers.Dense(480, activation='relu'),\n",
    "        layers.Dropout(0.25),\n",
    "        layers.Dense(480, activation='relu'),\n",
    "        layers.Dropout(0.25),\n",
    "        layers.Dense(1)\n",
    "    ])\n",
    "\n",
    "    model.compile(loss='mean_absolute_error',\n",
    "                  optimizer=tf.keras.optimizers.Adam(0.01))\n",
    "\n",
    "    return model\n",
    "\n",
    "\n",
    "def get_optimizer():\n",
    "    return tf.keras.optimizers.Adam(lr_schedule)\n",
    "\n",
    "\n",
    "def get_callbacks(name):\n",
    "    return [\n",
    "        tfdocs.modeling.EpochDots(),\n",
    "        tf.keras.callbacks.EarlyStopping(monitor='huber', patience=200),\n",
    "        tf.keras.callbacks.TensorBoard(logdir/name),\n",
    "    ]\n",
    "\n",
    "\n",
    "def compile_and_fit(model, name, optimizer=None, max_epochs=10000):\n",
    "    if optimizer is None:\n",
    "        optimizer = get_optimizer()\n",
    "    model.compile(optimizer=optimizer,\n",
    "                  loss='huber',\n",
    "                  metrics=['mean_absolute_error', 'mean_squared_error'])"
   ]
  },
  {
   "cell_type": "code",
   "execution_count": 25,
   "id": "varied-negotiation",
   "metadata": {},
   "outputs": [
    {
     "name": "stdout",
     "output_type": "stream",
     "text": [
      "Model: \"sequential\"\n",
      "_________________________________________________________________\n",
      "Layer (type)                 Output Shape              Param #   \n",
      "=================================================================\n",
      "normalization (Normalization (None, 12)                25        \n",
      "_________________________________________________________________\n",
      "dense (Dense)                (None, 480)               6240      \n",
      "_________________________________________________________________\n",
      "dropout (Dropout)            (None, 480)               0         \n",
      "_________________________________________________________________\n",
      "dense_1 (Dense)              (None, 480)               230880    \n",
      "_________________________________________________________________\n",
      "dropout_1 (Dropout)          (None, 480)               0         \n",
      "_________________________________________________________________\n",
      "dense_2 (Dense)              (None, 1)                 481       \n",
      "=================================================================\n",
      "Total params: 237,626\n",
      "Trainable params: 237,601\n",
      "Non-trainable params: 25\n",
      "_________________________________________________________________\n"
     ]
    }
   ],
   "source": [
    "dnn_model = build_and_compile_model(normalizer)\n",
    "dnn_model.summary()"
   ]
  },
  {
   "cell_type": "code",
   "execution_count": null,
   "id": "understood-vegetarian",
   "metadata": {},
   "outputs": [],
   "source": [
    "%%time\n",
    "history = dnn_model.fit(\n",
    "    train_features, train_labels,\n",
    "    validation_split=0.2,\n",
    "    verbose=0, epochs=40)"
   ]
  },
  {
   "cell_type": "code",
   "execution_count": null,
   "id": "foreign-aside",
   "metadata": {},
   "outputs": [],
   "source": [
    "totalPredicted = 0\n",
    "bikes['totalPredicted'] = 0\n",
    "bikes['totalPredictedDay'] = 0\n",
    "\n",
    "for i in range(1, len(bikes)):\n",
    "    prevRow = bikes.iloc[i - 1]\n",
    "    row = bikes.iloc[i]\n",
    "    if row.day == prevRow.day and row.month == prevRow.month and row.year == prevRow.year:\n",
    "        totalPredicted += dnn_model.predict(row)\n",
    "    else:\n",
    "        prevRow.totalPredictedDay = totalPredicted\n",
    "        totalPredicted = 0\n",
    "\n",
    "\n",
    "bikes.head()"
   ]
  },
  {
   "cell_type": "code",
   "execution_count": 44,
   "id": "intensive-breakfast",
   "metadata": {},
   "outputs": [
    {
     "data": {
      "image/png": "[encoded data removed]",
      "text/plain": [
       "<Figure size 432x288 with 1 Axes>"
      ]
     },
     "metadata": {
      "needs_background": "light"
     },
     "output_type": "display_data"
    }
   ],
   "source": [
    "plot_loss(history)"
   ]
  },
  {
   "attachments": {
    "edf6acf1-7a45-4742-8af2-e858becb5594.png": {
     "image/png": "[encoded data removed]"
    }
   },
   "cell_type": "markdown",
   "id": "congressional-match",
   "metadata": {},
   "source": [
    "![image.png](attachment:edf6acf1-7a45-4742-8af2-e858becb5594.png)"
   ]
  },
  {
   "cell_type": "code",
   "execution_count": 121,
   "id": "determined-scholarship",
   "metadata": {},
   "outputs": [
    {
     "data": {
      "image/png": "[encoded data removed]",
      "text/plain": [
       "<Figure size 432x288 with 1 Axes>"
      ]
     },
     "metadata": {
      "needs_background": "light"
     },
     "output_type": "display_data"
    }
   ],
   "source": [
    "test_predictions = dnn_model.predict(test_features).flatten()\n",
    "\n",
    "a = plt.axes(aspect='equal')\n",
    "plt.scatter(test_labels, test_predictions)\n",
    "plt.xlabel('True Values')\n",
    "plt.ylabel('Predictions')\n",
    "lims = [0, 1000]\n",
    "plt.xlim(lims)\n",
    "plt.ylim(lims)\n",
    "_ = plt.plot(lims, lims)"
   ]
  },
  {
   "cell_type": "code",
   "execution_count": 122,
   "id": "chubby-institute",
   "metadata": {},
   "outputs": [
    {
     "name": "stdout",
     "output_type": "stream",
     "text": [
      "109/109 [==============================] - 0s 667us/step - loss: 47.3935\n"
     ]
    },
    {
     "data": {
      "text/plain": [
       "array([[ 14.111345],\n",
       "       [ 29.823872],\n",
       "       [ 29.823872],\n",
       "       [ 29.823872],\n",
       "       [ 14.111345],\n",
       "       [ 19.570148],\n",
       "       [ 29.82387 ],\n",
       "       [ 85.37594 ],\n",
       "       [295.39545 ]], dtype=float32)"
      ]
     },
     "execution_count": 122,
     "metadata": {},
     "output_type": "execute_result"
    }
   ],
   "source": [
    "dnn_model.evaluate(test_features, test_labels)"
   ]
  },
  {
   "cell_type": "markdown",
   "id": "common-transition",
   "metadata": {},
   "source": [
    "## Keras Tuner"
   ]
  },
  {
   "cell_type": "code",
   "execution_count": 14,
   "id": "raised-starter",
   "metadata": {},
   "outputs": [],
   "source": [
    "import kerastuner as kt"
   ]
  },
  {
   "cell_type": "code",
   "execution_count": 15,
   "id": "threaded-grade",
   "metadata": {},
   "outputs": [],
   "source": [
    "def model_builder(hp):\n",
    "    model = keras.Sequential()\n",
    "    model.add(normalizer)\n",
    "\n",
    "    # Tune the number of units in the first Dense layer\n",
    "    # Choose an optimal value between 32-512\n",
    "    hp_units = hp.Int('units', min_value=32, max_value=512, step=32)\n",
    "    model.add(keras.layers.Dense(units=hp_units, activation='relu'))\n",
    "    model.add(keras.layers.Dense(units=hp_units, activation='relu'))\n",
    "    model.add(keras.layers.Dense(1))\n",
    "\n",
    "    # Tune the learning rate for the optimizer\n",
    "    # Choose an optimal value from 0.01, 0.001, or 0.0001\n",
    "    hp_learning_rate = hp.Choice('learning_rate', values=[1e-2, 1e-3, 1e-4])\n",
    "\n",
    "    model.compile(optimizer=keras.optimizers.Adam(learning_rate=hp_learning_rate),\n",
    "                loss='huber',\n",
    "                metrics=['mean_absolute_error'])\n",
    "\n",
    "    return model"
   ]
  },
  {
   "cell_type": "code",
   "execution_count": 16,
   "id": "sound-dinner",
   "metadata": {},
   "outputs": [
    {
     "name": "stdout",
     "output_type": "stream",
     "text": [
      "INFO:tensorflow:Reloading Oracle from existing project my_dir\\intro_to_kt\\oracle.json\n",
      "INFO:tensorflow:Reloading Tuner from my_dir\\intro_to_kt\\tuner0.json\n"
     ]
    }
   ],
   "source": [
    "tuner = kt.Hyperband(model_builder,\n",
    "                     objective='val_loss',\n",
    "                     max_epochs=100,\n",
    "                     factor=3,\n",
    "                     directory='my_dir',\n",
    "                     project_name='intro_to_kt')"
   ]
  },
  {
   "cell_type": "code",
   "execution_count": 17,
   "id": "wound-financing",
   "metadata": {},
   "outputs": [
    {
     "name": "stdout",
     "output_type": "stream",
     "text": [
      "INFO:tensorflow:Oracle triggered exit\n",
      "\n",
      "The hyperparameter search is complete. The optimal number of units in the first densely-connected\n",
      "layer is 480 and the optimal learning rate for the optimizer\n",
      "is 0.01.\n",
      "\n"
     ]
    }
   ],
   "source": [
    "tuner.search(train_features, train_labels, epochs=100, validation_split=0.2)\n",
    "\n",
    "# Get the optimal hyperparameters\n",
    "best_hps=tuner.get_best_hyperparameters(num_trials=1)[0]\n",
    "\n",
    "print(f\"\"\"\n",
    "The hyperparameter search is complete. The optimal number of units in the first densely-connected\n",
    "layer is {best_hps.get('units')} and the optimal learning rate for the optimizer\n",
    "is {best_hps.get('learning_rate')}.\n",
    "\"\"\")"
   ]
  },
  {
   "cell_type": "markdown",
   "id": "premier-incidence",
   "metadata": {},
   "source": [
    "# Investigation of $MSLE$"
   ]
  },
  {
   "cell_type": "markdown",
   "id": "alternate-passport",
   "metadata": {},
   "source": [
    "## Mathematical Investigation"
   ]
  },
  {
   "cell_type": "markdown",
   "id": "severe-supply",
   "metadata": {},
   "source": [
    "### Definitions of $MSLE$ and $RMSLE$"
   ]
  },
  {
   "cell_type": "markdown",
   "id": "prescribed-crisis",
   "metadata": {},
   "source": [
    "$MSLE = \\frac{1}{n} \\sum_{i=1}^{n}(log(y\\_true_i + 1) - log(y\\_pred_i + 1))^2$  \n",
    "$RMSLE = \\sqrt{\\frac{1}{n} \\sum_{i=1}^{n}(log(y\\_true_i + 1) - log(y\\_pred_i + 1))^2}$  \n",
    "$MSLE = \\frac{1}{n} \\sum_{i=1}^{n}log(\\frac{y\\_true_i + 1}{y\\_pred_i + 1})^2$  \n",
    "$RMSLE = \\sqrt{\\frac{1}{n} \\sum_{i=1}^{n}log(\\frac{y\\_true_i + 1}{y\\_pred_i + 1})^2}$  \n",
    "$RMSLE = \\sqrt{MSLE}$"
   ]
  },
  {
   "cell_type": "markdown",
   "id": "swiss-aerospace",
   "metadata": {},
   "source": [
    "$MSLE = log(\\frac{y\\_true + 1)}{y\\_pred + 1)})^2$ is for one value instead of a sum."
   ]
  },
  {
   "cell_type": "markdown",
   "id": "another-syndrome",
   "metadata": {},
   "source": [
    "$RMSLE = \\sqrt{log(\\frac{y\\_true + 1)}{y\\_pred + 1)})^2}$ is for one value instead of a sum."
   ]
  },
  {
   "cell_type": "markdown",
   "id": "regulation-proposition",
   "metadata": {},
   "source": [
    "### Moving Things to a Usable State"
   ]
  },
  {
   "cell_type": "markdown",
   "id": "identified-competition",
   "metadata": {},
   "source": [
    "$\\frac{y\\_true + 1}{y\\_pred + 1} = log\\ ^{-1}(\\sqrt{MSLE})$"
   ]
  },
  {
   "cell_type": "markdown",
   "id": "remarkable-crystal",
   "metadata": {},
   "source": [
    "$\\frac{y\\_pred + 1}{y\\_true + 1} = \\frac{1}{log\\ ^{-1}(\\sqrt{MSLE})}$"
   ]
  },
  {
   "cell_type": "markdown",
   "id": "cubic-trigger",
   "metadata": {},
   "source": [
    "$y\\_pred + 1 = \\frac{y\\_true + 1}{log\\ ^{-1}(\\sqrt{MSLE})}$"
   ]
  },
  {
   "cell_type": "markdown",
   "id": "desperate-abuse",
   "metadata": {},
   "source": [
    "$y\\_pred = \\frac{y\\_true + 1}{log\\ ^{-1}(\\sqrt{MSLE})} - 1$"
   ]
  },
  {
   "cell_type": "markdown",
   "id": "respiratory-lawyer",
   "metadata": {},
   "source": [
    "$y\\_pred - y\\_true$ is the amount of error from the actual value in terms of the units used."
   ]
  },
  {
   "cell_type": "markdown",
   "id": "removable-output",
   "metadata": {},
   "source": [
    "$\\frac{y\\_true + 1}{y\\_pred + 1} = log\\ ^{-1}(RMSLE)$"
   ]
  },
  {
   "cell_type": "markdown",
   "id": "usual-fantasy",
   "metadata": {},
   "source": [
    "$\\frac{y\\_pred + 1}{y\\_true + 1} = \\frac{1}{log\\ ^{-1}(RMSLE)}$"
   ]
  },
  {
   "cell_type": "markdown",
   "id": "concerned-referral",
   "metadata": {},
   "source": [
    "$y\\_pred - y\\_true$ is the amount of error from the actual value in terms of the units used."
   ]
  },
  {
   "cell_type": "markdown",
   "id": "extended-refund",
   "metadata": {},
   "source": [
    "$(\\frac{y\\_pred}{y\\_true} * y\\_true) - y\\_true$ is the amount of error from the actual value in terms of the units used."
   ]
  },
  {
   "cell_type": "markdown",
   "id": "divine-bidder",
   "metadata": {},
   "source": [
    "$y\\_true - (\\frac{y\\_pred}{y\\_true} * y\\_true)$ is the amount of error in the base unit."
   ]
  },
  {
   "cell_type": "markdown",
   "id": "advisory-tsunami",
   "metadata": {},
   "source": [
    "$y\\_true - \\frac{y\\_true}{log\\ ^{-1}(\\sqrt{MSLE})}$ approximates the amount of error in the base unit."
   ]
  },
  {
   "cell_type": "markdown",
   "id": "pharmaceutical-horizontal",
   "metadata": {},
   "source": [
    "$y\\_true \\cdot (1 - \\frac{1}{log\\ ^{-1}(\\sqrt{MSLE})})$ approximates the amount of error in the base unit."
   ]
  },
  {
   "cell_type": "markdown",
   "id": "fossil-certification",
   "metadata": {},
   "source": [
    "$MSLE^{-1} = (y\\_true + 1) - (y\\_pred + 1)$"
   ]
  },
  {
   "cell_type": "markdown",
   "id": "entertaining-commonwealth",
   "metadata": {},
   "source": [
    "$MSLE^{-1} = y\\_true + 1 - y\\_pred - 1$"
   ]
  },
  {
   "cell_type": "markdown",
   "id": "hairy-shopper",
   "metadata": {},
   "source": [
    "$MSLE^{-1} = y\\_true - y\\_pred$"
   ]
  },
  {
   "cell_type": "markdown",
   "id": "lyric-purchase",
   "metadata": {},
   "source": [
    "$MSLE^{-1} \\approx y\\_true \\cdot (1 - \\frac{1}{log\\ ^{-1}(\\sqrt{MSLE})})$"
   ]
  },
  {
   "cell_type": "markdown",
   "id": "silver-application",
   "metadata": {},
   "source": [
    "$MSLE^{-1} = (y\\_true + 1) - \\frac{y\\_true + 1}{log\\ ^{-1}(\\sqrt{MSLE})} $"
   ]
  },
  {
   "cell_type": "markdown",
   "id": "pregnant-convergence",
   "metadata": {},
   "source": [
    "## Other useful things with $MSLE$"
   ]
  },
  {
   "cell_type": "markdown",
   "id": "grave-fabric",
   "metadata": {},
   "source": [
    "$\\frac{y\\_pred}{y\\_true}$ is the ratio of prediction to actual.  "
   ]
  },
  {
   "cell_type": "markdown",
   "id": "historic-pharmacy",
   "metadata": {},
   "source": [
    "$\\frac{1}{log\\ ^{-1}(RMSLE)}$ approximates the ratio of prediction to actual.  "
   ]
  },
  {
   "cell_type": "markdown",
   "id": "neutral-vatican",
   "metadata": {},
   "source": [
    "$(100 \\cdot \\frac{y\\_pred}{y\\_true})$ % is the ratio of prediction to actual in percentage .  "
   ]
  },
  {
   "cell_type": "markdown",
   "id": "hundred-founder",
   "metadata": {},
   "source": [
    "$(1 - (100 \\cdot \\frac{y\\_pred}{y\\_true}))$ % is the percentage of which the prediction is off."
   ]
  },
  {
   "cell_type": "markdown",
   "id": "amber-wallpaper",
   "metadata": {},
   "source": [
    "$\\vert1 - (100 \\cdot \\frac{y\\_pred}{y\\_true})\\vert$ % absolute value can be used to remove discrimination between negative and positive percent off."
   ]
  },
  {
   "cell_type": "markdown",
   "id": "cooperative-spray",
   "metadata": {},
   "source": [
    "$y\\_true$ of a set $\\approx \\frac{1}{n}\\sum^n_{i = 1} y\\_true_i$"
   ]
  },
  {
   "cell_type": "markdown",
   "id": "advance-pollution",
   "metadata": {},
   "source": [
    "$\\Large MSLE^{-1}$ $\\Large \\textbf{with python!}$ "
   ]
  },
  {
   "cell_type": "markdown",
   "id": "hungarian-amino",
   "metadata": {},
   "source": [
    "msle = (math.log((y_true + 1) / (y_pred + 1))) ** 2  \n",
    "(msle ** 0.5) = (math.log((y_true + 1) / (y_pred + 1)))  \n",
    "10 ** (msle ** 0.5) = (y_true + 1) / (y_pred + 1)  \n",
    "1 / (10 ** (msle ** 0.5)) = (y_pred + 1) / (y_true + 1)  \n",
    "(y_true + 1) / (10 ** (msle ** 0.5)) = (y_pred + 1)  \n",
    "(y_true + 1) / (10 ** (msle ** 0.5)) - 1 = y_pred  "
   ]
  },
  {
   "cell_type": "code",
   "execution_count": 7,
   "id": "adequate-lender",
   "metadata": {},
   "outputs": [],
   "source": [
    "'''\n",
    "msle = (math.log((y_true + 1) / (y_pred + 1))) ** 2\n",
    "(msle ** 0.5) = (math.log((y_true + 1) / (y_pred + 1)))\n",
    "10 ** (msle ** 0.5) = (y_true + 1) / (y_pred + 1)\n",
    "1 / (10 ** (msle ** 0.5)) = (y_pred + 1) / (y_true + 1)\n",
    "(y_true + 1) / (10 ** (msle ** 0.5)) = (y_pred + 1)\n",
    "(y_true + 1) / (10 ** (msle ** 0.5)) - 1 = y_pred\n",
    "e = 2.71828182845904523536028747135266249775724709369995\n",
    "'''\n",
    "\n",
    "import math\n",
    "\n",
    "\n",
    "def MSLE(y_true, y_pred, base=2.7182818284590452353602874713526624977572):\n",
    "    \"\"\"Compute MSLE\"\"\"\n",
    "    return (math.log((y_true + 1) / (y_pred + 1), base)) ** 2\n",
    "\n",
    "\n",
    "def inverseMSLE(msle, y_true, base=2.7182818284590452353602874713526624977572):\n",
    "    \"\"\"Computes the inverse of MSLE\"\"\"\n",
    "    return f'{((y_true + 1) / (base ** (1 * msle ** 0.5))) - y_true - 1} or {((y_true + 1) / (base ** (-1 * msle ** 0.5))) - y_true - 1}'\n",
    "\n",
    "def ypred(msle, y_true, base=2.7182818284590452353602874713526624977572):\n",
    "    return ((y_true + 1) / (base ** (msle ** 0.5))) - 1"
   ]
  },
  {
   "cell_type": "code",
   "execution_count": 12,
   "id": "supposed-dominican",
   "metadata": {},
   "outputs": [
    {
     "name": "stdout",
     "output_type": "stream",
     "text": [
      "The MSLE is: 0.15168280454876354\n",
      "The SKLMSLE is: 0.15168280454876348\n",
      "y_pred is: 13.225806451612902\n"
     ]
    },
    {
     "ename": "TypeError",
     "evalue": "can only concatenate list (not \"int\") to list",
     "output_type": "error",
     "traceback": [
      "\u001b[1;31m---------------------------------------------------------------------------\u001b[0m",
      "\u001b[1;31mTypeError\u001b[0m                                 Traceback (most recent call last)",
      "\u001b[1;32m<ipython-input-12-1aa0eb13270c>\u001b[0m in \u001b[0;36m<module>\u001b[1;34m\u001b[0m\n\u001b[0;32m      4\u001b[0m \u001b[0mprint\u001b[0m\u001b[1;33m(\u001b[0m\u001b[1;34mf'The SKLMSLE is: {sklsmsle([20], [13.225806451612902])}'\u001b[0m\u001b[1;33m)\u001b[0m\u001b[1;33m\u001b[0m\u001b[1;33m\u001b[0m\u001b[0m\n\u001b[0;32m      5\u001b[0m \u001b[0mprint\u001b[0m\u001b[1;33m(\u001b[0m\u001b[1;34mf'y_pred is: {ypred(0.15168280454876354, 20)}'\u001b[0m\u001b[1;33m)\u001b[0m\u001b[1;33m\u001b[0m\u001b[1;33m\u001b[0m\u001b[0m\n\u001b[1;32m----> 6\u001b[1;33m \u001b[0mprint\u001b[0m\u001b[1;33m(\u001b[0m\u001b[1;34mf'The inverse of the MSLE is: {inverseMSLE(MSLE([20], [30]), 20)}'\u001b[0m\u001b[1;33m)\u001b[0m\u001b[1;33m\u001b[0m\u001b[1;33m\u001b[0m\u001b[0m\n\u001b[0m",
      "\u001b[1;32m<ipython-input-7-041a557ea39f>\u001b[0m in \u001b[0;36mMSLE\u001b[1;34m(y_true, y_pred, base)\u001b[0m\n\u001b[0;32m     14\u001b[0m \u001b[1;32mdef\u001b[0m \u001b[0mMSLE\u001b[0m\u001b[1;33m(\u001b[0m\u001b[0my_true\u001b[0m\u001b[1;33m,\u001b[0m \u001b[0my_pred\u001b[0m\u001b[1;33m,\u001b[0m \u001b[0mbase\u001b[0m\u001b[1;33m=\u001b[0m\u001b[1;36m2.7182818284590452353602874713526624977572\u001b[0m\u001b[1;33m)\u001b[0m\u001b[1;33m:\u001b[0m\u001b[1;33m\u001b[0m\u001b[1;33m\u001b[0m\u001b[0m\n\u001b[0;32m     15\u001b[0m     \u001b[1;34m\"\"\"Compute MSLE\"\"\"\u001b[0m\u001b[1;33m\u001b[0m\u001b[1;33m\u001b[0m\u001b[0m\n\u001b[1;32m---> 16\u001b[1;33m     \u001b[1;32mreturn\u001b[0m \u001b[1;33m(\u001b[0m\u001b[0mmath\u001b[0m\u001b[1;33m.\u001b[0m\u001b[0mlog\u001b[0m\u001b[1;33m(\u001b[0m\u001b[1;33m(\u001b[0m\u001b[0my_true\u001b[0m \u001b[1;33m+\u001b[0m \u001b[1;36m1\u001b[0m\u001b[1;33m)\u001b[0m \u001b[1;33m/\u001b[0m \u001b[1;33m(\u001b[0m\u001b[0my_pred\u001b[0m \u001b[1;33m+\u001b[0m \u001b[1;36m1\u001b[0m\u001b[1;33m)\u001b[0m\u001b[1;33m,\u001b[0m \u001b[0mbase\u001b[0m\u001b[1;33m)\u001b[0m\u001b[1;33m)\u001b[0m \u001b[1;33m**\u001b[0m \u001b[1;36m2\u001b[0m\u001b[1;33m\u001b[0m\u001b[1;33m\u001b[0m\u001b[0m\n\u001b[0m\u001b[0;32m     17\u001b[0m \u001b[1;33m\u001b[0m\u001b[0m\n\u001b[0;32m     18\u001b[0m \u001b[1;33m\u001b[0m\u001b[0m\n",
      "\u001b[1;31mTypeError\u001b[0m: can only concatenate list (not \"int\") to list"
     ]
    }
   ],
   "source": [
    "from sklearn.metrics import mean_squared_log_error as sklsmsle\n",
    "\n",
    "print(f'The MSLE is: {MSLE(20, 13.225806451612902)}')\n",
    "print(f'The SKLMSLE is: {sklsmsle([20], [13.225806451612902])}')\n",
    "print(f'y_pred is: {ypred(0.15168280454876354, 20)}')\n",
    "print(f'The inverse of the MSLE is: {inverseMSLE(MSLE(20, 30), 20)}')"
   ]
  }
 ],
 "metadata": {
  "kernelspec": {
   "display_name": "Python 3",
   "language": "python",
   "name": "python3"
  },
  "language_info": {
   "codemirror_mode": {
    "name": "ipython",
    "version": 3
   },
   "file_extension": ".py",
   "mimetype": "text/x-python",
   "name": "python",
   "nbconvert_exporter": "python",
   "pygments_lexer": "ipython3",
   "version": "3.8.7"
  }
 },
 "nbformat": 4,
 "nbformat_minor": 5
}
